{
 "cells": [
  {
   "cell_type": "markdown",
   "metadata": {},
   "source": [
    "# Sparkify Project Workspace\n",
    "This workspace contains a tiny subset (128MB) of the full dataset available (12GB). Feel free to use this workspace to build your project, or to explore a smaller subset with Spark before deploying your cluster on the cloud. Instructions for setting up your Spark cluster is included in the last lesson of the Extracurricular Spark Course content.\n",
    "\n",
    "You can follow the steps below to guide your data analysis and model building portion of this project."
   ]
  },
  {
   "cell_type": "code",
   "execution_count": 1,
   "metadata": {},
   "outputs": [],
   "source": [
    "# import libraries\n",
    "from pyspark.sql import SparkSession\n",
    "\n",
    "from pyspark.sql.functions import avg, col, concat, desc, explode, sum,\\\n",
    "    lit, min, max, split, udf, from_unixtime, when, expr, round, count, \\\n",
    "    current_timestamp, to_date, countDistinct, year, month, dayofmonth, \\\n",
    "    current_date, datediff, isnan\n",
    "from pyspark.sql.types import IntegerType, DoubleType, LongType, DateType\n",
    "from pyspark.sql import Window\n",
    "\n",
    "from pyspark.ml import Pipeline\n",
    "from pyspark.ml.classification import LogisticRegression, DecisionTreeClassifier, \\\n",
    "    RandomForestClassifier, GBTClassifier, MultilayerPerceptronClassifier \n",
    "from pyspark.ml.evaluation import MulticlassClassificationEvaluator\n",
    "from pyspark.ml.feature import CountVectorizer, IDF, Normalizer, PCA, RegexTokenizer, \\\n",
    "    StandardScaler, StopWordsRemover, StringIndexer, VectorAssembler\n",
    "from pyspark.ml.regression import LinearRegression\n",
    "from pyspark.ml.tuning import CrossValidator, ParamGridBuilder\n",
    "from pyspark.ml.pipeline import PipelineModel\n",
    "\n",
    "import datetime\n",
    "\n",
    "import re\n",
    "\n",
    "import numpy as np\n",
    "import pandas as pd\n",
    "%matplotlib inline\n",
    "import matplotlib.pyplot as plt\n"
   ]
  },
  {
   "cell_type": "code",
   "execution_count": 2,
   "metadata": {},
   "outputs": [],
   "source": [
    "# create a Spark session\n",
    "spark = SparkSession.builder \\\n",
    "    .master(\"local\") \\\n",
    "    .appName(\"Sparkify\") \\\n",
    "    .getOrCreate()"
   ]
  },
  {
   "cell_type": "code",
   "execution_count": 3,
   "metadata": {},
   "outputs": [
    {
     "data": {
      "text/plain": [
       "[('spark.master', 'local'),\n",
       " ('spark.rdd.compress', 'True'),\n",
       " ('spark.driver.host',\n",
       "  '22f664a18a67504f5dcce01dee94f6d44177311f-69994f6bdc-rbnpr'),\n",
       " ('spark.app.name', 'Sparkify'),\n",
       " ('spark.serializer.objectStreamReset', '100'),\n",
       " ('spark.executor.id', 'driver'),\n",
       " ('spark.submit.deployMode', 'client'),\n",
       " ('spark.driver.port', '35895'),\n",
       " ('spark.app.id', 'local-1725435896040'),\n",
       " ('spark.ui.showConsoleProgress', 'true')]"
      ]
     },
     "execution_count": 3,
     "metadata": {},
     "output_type": "execute_result"
    }
   ],
   "source": [
    "spark.sparkContext.getConf().getAll()"
   ]
  },
  {
   "cell_type": "code",
   "execution_count": 4,
   "metadata": {},
   "outputs": [
    {
     "data": {
      "text/html": [
       "\n",
       "            <div>\n",
       "                <p><b>SparkSession - in-memory</b></p>\n",
       "                \n",
       "        <div>\n",
       "            <p><b>SparkContext</b></p>\n",
       "\n",
       "            <p><a href=\"http://22f664a18a67504f5dcce01dee94f6d44177311f-69994f6bdc-rbnpr:4040\">Spark UI</a></p>\n",
       "\n",
       "            <dl>\n",
       "              <dt>Version</dt>\n",
       "                <dd><code>v2.4.3</code></dd>\n",
       "              <dt>Master</dt>\n",
       "                <dd><code>local</code></dd>\n",
       "              <dt>AppName</dt>\n",
       "                <dd><code>Sparkify</code></dd>\n",
       "            </dl>\n",
       "        </div>\n",
       "        \n",
       "            </div>\n",
       "        "
      ],
      "text/plain": [
       "<pyspark.sql.session.SparkSession at 0x788589571b38>"
      ]
     },
     "execution_count": 4,
     "metadata": {},
     "output_type": "execute_result"
    }
   ],
   "source": [
    "spark"
   ]
  },
  {
   "cell_type": "markdown",
   "metadata": {},
   "source": [
    "# Load and Clean Dataset\n",
    "In this workspace, the mini-dataset file is `mini_sparkify_event_data.json`. Load and clean the dataset, checking for invalid or missing data - for example, records without userids or sessionids. "
   ]
  },
  {
   "cell_type": "code",
   "execution_count": 5,
   "metadata": {},
   "outputs": [],
   "source": [
    "path = \"mini_sparkify_event_data.json\"\n",
    "event_data = spark.read.json(path)"
   ]
  },
  {
   "cell_type": "code",
   "execution_count": 6,
   "metadata": {
    "scrolled": true
   },
   "outputs": [
    {
     "name": "stdout",
     "output_type": "stream",
     "text": [
      "root\n",
      " |-- artist: string (nullable = true)\n",
      " |-- auth: string (nullable = true)\n",
      " |-- firstName: string (nullable = true)\n",
      " |-- gender: string (nullable = true)\n",
      " |-- itemInSession: long (nullable = true)\n",
      " |-- lastName: string (nullable = true)\n",
      " |-- length: double (nullable = true)\n",
      " |-- level: string (nullable = true)\n",
      " |-- location: string (nullable = true)\n",
      " |-- method: string (nullable = true)\n",
      " |-- page: string (nullable = true)\n",
      " |-- registration: long (nullable = true)\n",
      " |-- sessionId: long (nullable = true)\n",
      " |-- song: string (nullable = true)\n",
      " |-- status: long (nullable = true)\n",
      " |-- ts: long (nullable = true)\n",
      " |-- userAgent: string (nullable = true)\n",
      " |-- userId: string (nullable = true)\n",
      "\n"
     ]
    }
   ],
   "source": [
    "event_data.printSchema()"
   ]
  },
  {
   "cell_type": "code",
   "execution_count": 7,
   "metadata": {},
   "outputs": [
    {
     "data": {
      "text/plain": [
       "DataFrame[summary: string, artist: string, auth: string, firstName: string, gender: string, itemInSession: string, lastName: string, length: string, level: string, location: string, method: string, page: string, registration: string, sessionId: string, song: string, status: string, ts: string, userAgent: string, userId: string]"
      ]
     },
     "execution_count": 7,
     "metadata": {},
     "output_type": "execute_result"
    }
   ],
   "source": [
    "event_data.describe()"
   ]
  },
  {
   "cell_type": "code",
   "execution_count": 8,
   "metadata": {},
   "outputs": [
    {
     "name": "stdout",
     "output_type": "stream",
     "text": [
      "+--------------+---------+---------+------+-------------+--------+---------+-----+---------------+------+--------+-------------+---------+---------+------+-------------+--------------------+------+\n",
      "|        artist|     auth|firstName|gender|itemInSession|lastName|   length|level|       location|method|    page| registration|sessionId|     song|status|           ts|           userAgent|userId|\n",
      "+--------------+---------+---------+------+-------------+--------+---------+-----+---------------+------+--------+-------------+---------+---------+------+-------------+--------------------+------+\n",
      "|Martha Tilston|Logged In|    Colin|     M|           50| Freeman|277.89016| paid|Bakersfield, CA|   PUT|NextSong|1538173362000|       29|Rockpools|   200|1538352117000|Mozilla/5.0 (Wind...|    30|\n",
      "+--------------+---------+---------+------+-------------+--------+---------+-----+---------------+------+--------+-------------+---------+---------+------+-------------+--------------------+------+\n",
      "only showing top 1 row\n",
      "\n"
     ]
    }
   ],
   "source": [
    "event_data.show(n=1)"
   ]
  },
  {
   "cell_type": "code",
   "execution_count": 12,
   "metadata": {},
   "outputs": [
    {
     "data": {
      "text/plain": [
       "[Row(artist='Martha Tilston', auth='Logged In', firstName='Colin', gender='M', itemInSession=50, lastName='Freeman', length=277.89016, level='paid', location='Bakersfield, CA', method='PUT', page='NextSong', registration=1538173362000, sessionId=29, song='Rockpools', status=200, ts=1538352117000, userAgent='Mozilla/5.0 (Windows NT 6.1; WOW64; rv:31.0) Gecko/20100101 Firefox/31.0', userId='30'),\n",
       " Row(artist='Five Iron Frenzy', auth='Logged In', firstName='Micah', gender='M', itemInSession=79, lastName='Long', length=236.09424, level='free', location='Boston-Cambridge-Newton, MA-NH', method='PUT', page='NextSong', registration=1538331630000, sessionId=8, song='Canada', status=200, ts=1538352180000, userAgent='\"Mozilla/5.0 (Windows NT 6.1; WOW64) AppleWebKit/537.36 (KHTML, like Gecko) Chrome/37.0.2062.103 Safari/537.36\"', userId='9'),\n",
       " Row(artist='Adam Lambert', auth='Logged In', firstName='Colin', gender='M', itemInSession=51, lastName='Freeman', length=282.8273, level='paid', location='Bakersfield, CA', method='PUT', page='NextSong', registration=1538173362000, sessionId=29, song='Time For Miracles', status=200, ts=1538352394000, userAgent='Mozilla/5.0 (Windows NT 6.1; WOW64; rv:31.0) Gecko/20100101 Firefox/31.0', userId='30'),\n",
       " Row(artist='Enigma', auth='Logged In', firstName='Micah', gender='M', itemInSession=80, lastName='Long', length=262.71302, level='free', location='Boston-Cambridge-Newton, MA-NH', method='PUT', page='NextSong', registration=1538331630000, sessionId=8, song='Knocking On Forbidden Doors', status=200, ts=1538352416000, userAgent='\"Mozilla/5.0 (Windows NT 6.1; WOW64) AppleWebKit/537.36 (KHTML, like Gecko) Chrome/37.0.2062.103 Safari/537.36\"', userId='9'),\n",
       " Row(artist='Daft Punk', auth='Logged In', firstName='Colin', gender='M', itemInSession=52, lastName='Freeman', length=223.60771, level='paid', location='Bakersfield, CA', method='PUT', page='NextSong', registration=1538173362000, sessionId=29, song='Harder Better Faster Stronger', status=200, ts=1538352676000, userAgent='Mozilla/5.0 (Windows NT 6.1; WOW64; rv:31.0) Gecko/20100101 Firefox/31.0', userId='30')]"
      ]
     },
     "execution_count": 12,
     "metadata": {},
     "output_type": "execute_result"
    }
   ],
   "source": [
    "event_data.take(5)"
   ]
  },
  {
   "cell_type": "code",
   "execution_count": 9,
   "metadata": {},
   "outputs": [
    {
     "data": {
      "text/plain": [
       "286500"
      ]
     },
     "execution_count": 9,
     "metadata": {},
     "output_type": "execute_result"
    }
   ],
   "source": [
    "# Number of events\n",
    "event_data.count()"
   ]
  },
  {
   "cell_type": "code",
   "execution_count": 8,
   "metadata": {},
   "outputs": [],
   "source": [
    "# Valid userId and sessionId\n",
    "event_data_valid = event_data.dropna(how = \"any\", subset = [\"userId\", \"sessionId\", 'gender', 'location'])"
   ]
  },
  {
   "cell_type": "code",
   "execution_count": 8,
   "metadata": {},
   "outputs": [
    {
     "data": {
      "text/plain": [
       "278154"
      ]
     },
     "execution_count": 8,
     "metadata": {},
     "output_type": "execute_result"
    }
   ],
   "source": [
    "# Number of valid userId and sessionId\n",
    "event_data_valid.count()"
   ]
  },
  {
   "cell_type": "code",
   "execution_count": 9,
   "metadata": {
    "scrolled": true
   },
   "outputs": [
    {
     "name": "stdout",
     "output_type": "stream",
     "text": [
      "+------+\n",
      "|userID|\n",
      "+------+\n",
      "|    30|\n",
      "|     9|\n",
      "|    30|\n",
      "|     9|\n",
      "|    30|\n",
      "|     9|\n",
      "|     9|\n",
      "|    30|\n",
      "|    30|\n",
      "|    30|\n",
      "|     9|\n",
      "|     9|\n",
      "|    30|\n",
      "|     9|\n",
      "|     9|\n",
      "|    30|\n",
      "|     9|\n",
      "|    74|\n",
      "|    30|\n",
      "|     9|\n",
      "+------+\n",
      "only showing top 20 rows\n",
      "\n"
     ]
    }
   ],
   "source": [
    "# UserIds\n",
    "event_data.select(\"userID\").show()"
   ]
  },
  {
   "cell_type": "code",
   "execution_count": 11,
   "metadata": {
    "scrolled": true
   },
   "outputs": [
    {
     "name": "stdout",
     "output_type": "stream",
     "text": [
      "+------+\n",
      "|userId|\n",
      "+------+\n",
      "|      |\n",
      "|    10|\n",
      "|   100|\n",
      "|100001|\n",
      "|100002|\n",
      "|100003|\n",
      "|100004|\n",
      "|100005|\n",
      "|100006|\n",
      "|100007|\n",
      "|100008|\n",
      "|100009|\n",
      "|100010|\n",
      "|100011|\n",
      "|100012|\n",
      "|100013|\n",
      "|100014|\n",
      "|100015|\n",
      "|100016|\n",
      "|100017|\n",
      "+------+\n",
      "only showing top 20 rows\n",
      "\n"
     ]
    }
   ],
   "source": [
    "# Unique UserIds\n",
    "event_data.select(\"userId\").dropDuplicates().sort(\"userId\").show()"
   ]
  },
  {
   "cell_type": "code",
   "execution_count": 12,
   "metadata": {},
   "outputs": [],
   "source": [
    "# Valid UserIds\n",
    "event_data_valid = event_data_valid.filter(event_data_valid[\"userId\"] != \"\")"
   ]
  },
  {
   "cell_type": "markdown",
   "metadata": {},
   "source": [
    "There are no missing values in the userID or session columns. However, there are userID values that are empty strings. These cases are perhaps unresgistered users or users about to log in."
   ]
  },
  {
   "cell_type": "markdown",
   "metadata": {},
   "source": [
    "# Exploratory Data Analysis\n",
    "When you're working with the full dataset, perform EDA by loading a small subset of the data and doing basic manipulations within Spark. In this workspace, you are already provided a small subset of data you can explore.\n",
    "\n",
    "### Define Churn\n",
    "\n",
    "Once you've done some preliminary analysis, create a column `Churn` to use as the label for your model. I suggest using the `Cancellation Confirmation` events to define your churn, which happen for both paid and free users. As a bonus task, you can also look into the `Downgrade` events.\n",
    "\n",
    "### Explore Data\n",
    "Once you've defined churn, perform some exploratory data analysis to observe the behavior for users who stayed vs users who churned. You can start by exploring aggregates on these two groups of users, observing how much of a specific action they experienced per a certain time unit or number of songs played."
   ]
  },
  {
   "cell_type": "markdown",
   "metadata": {},
   "source": [
    "#### Summary Statistics"
   ]
  },
  {
   "cell_type": "code",
   "execution_count": 14,
   "metadata": {},
   "outputs": [
    {
     "name": "stdout",
     "output_type": "stream",
     "text": [
      "+-------+------------------+\n",
      "|summary|            artist|\n",
      "+-------+------------------+\n",
      "|  count|            228108|\n",
      "|   mean| 551.0852017937219|\n",
      "| stddev|1217.7693079161374|\n",
      "|    min|               !!!|\n",
      "|    max| ÃÂlafur Arnalds|\n",
      "+-------+------------------+\n",
      "\n"
     ]
    }
   ],
   "source": [
    "# Summary statistics for the artist column\n",
    "event_data.describe(\"artist\").show()"
   ]
  },
  {
   "cell_type": "code",
   "execution_count": 15,
   "metadata": {
    "scrolled": true
   },
   "outputs": [
    {
     "name": "stdout",
     "output_type": "stream",
     "text": [
      "+-------+-----------------+\n",
      "|summary|        sessionId|\n",
      "+-------+-----------------+\n",
      "|  count|           286500|\n",
      "|   mean|1041.526554973822|\n",
      "| stddev|726.7762634630741|\n",
      "|    min|                1|\n",
      "|    max|             2474|\n",
      "+-------+-----------------+\n",
      "\n"
     ]
    }
   ],
   "source": [
    "# Summary statistics for the SessionId column\n",
    "event_data.describe(\"sessionId\").show()"
   ]
  },
  {
   "cell_type": "code",
   "execution_count": 26,
   "metadata": {},
   "outputs": [
    {
     "name": "stdout",
     "output_type": "stream",
     "text": [
      "+-------+-----------------+\n",
      "|summary|           UserId|\n",
      "+-------+-----------------+\n",
      "|  count|           286500|\n",
      "|   mean|59682.02278593872|\n",
      "| stddev|109091.9499991047|\n",
      "|    min|                 |\n",
      "|    max|               99|\n",
      "+-------+-----------------+\n",
      "\n"
     ]
    }
   ],
   "source": [
    "# Summary statistics for the UserId column\n",
    "event_data.describe(\"UserId\").show()"
   ]
  },
  {
   "cell_type": "code",
   "execution_count": 11,
   "metadata": {
    "scrolled": true
   },
   "outputs": [
    {
     "name": "stdout",
     "output_type": "stream",
     "text": [
      "+--------------------+\n",
      "|                page|\n",
      "+--------------------+\n",
      "|               About|\n",
      "|          Add Friend|\n",
      "|     Add to Playlist|\n",
      "|              Cancel|\n",
      "|Cancellation Conf...|\n",
      "|           Downgrade|\n",
      "|               Error|\n",
      "|                Help|\n",
      "|                Home|\n",
      "|               Login|\n",
      "|              Logout|\n",
      "|            NextSong|\n",
      "|            Register|\n",
      "|         Roll Advert|\n",
      "|       Save Settings|\n",
      "|            Settings|\n",
      "|    Submit Downgrade|\n",
      "| Submit Registration|\n",
      "|      Submit Upgrade|\n",
      "|         Thumbs Down|\n",
      "+--------------------+\n",
      "only showing top 20 rows\n",
      "\n"
     ]
    }
   ],
   "source": [
    "# Unique pages\n",
    "event_data.select(\"page\").dropDuplicates().sort(\"page\").show()"
   ]
  },
  {
   "cell_type": "code",
   "execution_count": 12,
   "metadata": {
    "scrolled": true
   },
   "outputs": [
    {
     "name": "stdout",
     "output_type": "stream",
     "text": [
      "+------+------+\n",
      "|gender| count|\n",
      "+------+------+\n",
      "|     F|154578|\n",
      "|     M|123576|\n",
      "+------+------+\n",
      "\n"
     ]
    }
   ],
   "source": [
    "# Events by gender\n",
    "event_data_valid.groupBy(\"gender\").count().dropDuplicates().show()"
   ]
  },
  {
   "cell_type": "code",
   "execution_count": 13,
   "metadata": {},
   "outputs": [
    {
     "name": "stdout",
     "output_type": "stream",
     "text": [
      "+------+-----------+\n",
      "|gender|total_users|\n",
      "+------+-----------+\n",
      "|     F|        104|\n",
      "|     M|        121|\n",
      "+------+-----------+\n",
      "\n"
     ]
    }
   ],
   "source": [
    "# Count the total number of female and male users\n",
    "user_counts = event_data_valid.groupBy(\"gender\") \\\n",
    "    .agg(countDistinct(\"userId\").alias(\"total_users\")) \\\n",
    "    .orderBy(\"gender\")\n",
    "\n",
    "user_counts.show()"
   ]
  },
  {
   "cell_type": "code",
   "execution_count": 16,
   "metadata": {},
   "outputs": [],
   "source": [
    "# Registration date columns\n",
    "event_data_valid = event_data_valid.withColumn(\"registration_date\", from_unixtime(col(\"registration\")/1000))\n",
    "event_data_valid = event_data_valid.withColumn(\"registration_year\", year(col(\"registration_date\")))\n",
    "event_data_valid = event_data_valid.withColumn(\"registration_month\", month(col(\"registration_date\")))\n",
    "event_data_valid = event_data_valid.withColumn(\"registration_day\", dayofmonth(col(\"registration_date\")))\n",
    "event_data_valid = event_data_valid.withColumn(\"days_since_registration\", datediff(current_date(), col(\"registration_date\")))"
   ]
  },
  {
   "cell_type": "code",
   "execution_count": 16,
   "metadata": {},
   "outputs": [
    {
     "name": "stdout",
     "output_type": "stream",
     "text": [
      "+-----------------+------+\n",
      "|registration_year| count|\n",
      "+-----------------+------+\n",
      "|             2018|278154|\n",
      "+-----------------+------+\n",
      "\n"
     ]
    }
   ],
   "source": [
    "# Number of users by Registration year\n",
    "event_data_valid.groupBy(\"registration_year\").count().dropDuplicates().show()"
   ]
  },
  {
   "cell_type": "code",
   "execution_count": 13,
   "metadata": {},
   "outputs": [
    {
     "name": "stdout",
     "output_type": "stream",
     "text": [
      "+------------------+------+\n",
      "|registration_month| count|\n",
      "+------------------+------+\n",
      "|                 6| 20523|\n",
      "|                 3|  3761|\n",
      "|                 5|  2391|\n",
      "|                 9|165635|\n",
      "|                 8| 48386|\n",
      "|                 7| 33519|\n",
      "|                10|  1682|\n",
      "|                11|  2257|\n",
      "+------------------+------+\n",
      "\n"
     ]
    }
   ],
   "source": [
    "# Number of users by Registration month\n",
    "event_data_valid.groupBy(\"registration_month\").count().dropDuplicates().show()"
   ]
  },
  {
   "cell_type": "code",
   "execution_count": 17,
   "metadata": {},
   "outputs": [
    {
     "name": "stdout",
     "output_type": "stream",
     "text": [
      "+-----------------------+-----+\n",
      "|days_since_registration|count|\n",
      "+-----------------------+-----+\n",
      "|                   2231| 6417|\n",
      "|                   2238| 1432|\n",
      "|                   2173| 1845|\n",
      "|                   2261|  218|\n",
      "|                   2212| 4719|\n",
      "|                   2180| 7897|\n",
      "|                   2209|  446|\n",
      "|                   2240| 1069|\n",
      "|                   2189| 1857|\n",
      "|                   2169| 8090|\n",
      "|                   2134| 1682|\n",
      "|                   2198| 1100|\n",
      "|                   2228| 1496|\n",
      "|                   2168| 5764|\n",
      "|                   2227|  234|\n",
      "|                   2181| 8816|\n",
      "|                   2192| 2600|\n",
      "|                   2219|  694|\n",
      "|                   2239| 2497|\n",
      "|                   2183|10602|\n",
      "+-----------------------+-----+\n",
      "only showing top 20 rows\n",
      "\n"
     ]
    }
   ],
   "source": [
    "# Days since registration\n",
    "event_data_valid.groupBy(\"days_since_registration\").count().dropDuplicates().show()"
   ]
  },
  {
   "cell_type": "code",
   "execution_count": 17,
   "metadata": {},
   "outputs": [
    {
     "name": "stdout",
     "output_type": "stream",
     "text": [
      "+--------------------+-----+\n",
      "|            location|count|\n",
      "+--------------------+-----+\n",
      "|     Gainesville, FL| 1229|\n",
      "|Atlantic City-Ham...| 2176|\n",
      "|Deltona-Daytona B...|   73|\n",
      "|San Diego-Carlsba...|  754|\n",
      "|Cleveland-Elyria, OH| 1392|\n",
      "|Kingsport-Bristol...| 1863|\n",
      "|New Haven-Milford...| 4007|\n",
      "|Birmingham-Hoover...|   75|\n",
      "|  Corpus Christi, TX|   11|\n",
      "|         Dubuque, IA|  651|\n",
      "|Las Vegas-Henders...| 2042|\n",
      "|Indianapolis-Carm...|  970|\n",
      "|Seattle-Tacoma-Be...|  246|\n",
      "|          Albany, OR|   23|\n",
      "|   Winston-Salem, NC|  819|\n",
      "|     Bakersfield, CA| 1775|\n",
      "|Los Angeles-Long ...|30131|\n",
      "|Minneapolis-St. P...| 2134|\n",
      "|San Francisco-Oak...| 2647|\n",
      "|Phoenix-Mesa-Scot...| 4846|\n",
      "+--------------------+-----+\n",
      "only showing top 20 rows\n",
      "\n"
     ]
    }
   ],
   "source": [
    "# Users by location\n",
    "event_data_valid.groupBy(\"location\").count().dropDuplicates().show()"
   ]
  },
  {
   "cell_type": "code",
   "execution_count": null,
   "metadata": {
    "scrolled": false
   },
   "outputs": [],
   "source": [
    "# Events for UserId 30\n",
    "event_data.select([\"userId\", \"firstname\", \"page\", \"song\"]).where(event_data.userId == \"30\").collect()"
   ]
  },
  {
   "cell_type": "markdown",
   "metadata": {},
   "source": [
    "#### Song statistics"
   ]
  },
  {
   "cell_type": "code",
   "execution_count": 58,
   "metadata": {},
   "outputs": [
    {
     "name": "stdout",
     "output_type": "stream",
     "text": [
      "+-------------+-----------+\n",
      "|       Artist|Artistcount|\n",
      "+-------------+-----------+\n",
      "|Kings Of Leon|       1841|\n",
      "+-------------+-----------+\n",
      "only showing top 1 row\n",
      "\n"
     ]
    }
   ],
   "source": [
    "# Number of songs played from the most played artist?\n",
    "event_data.filter(event_data.page == 'NextSong') \\\n",
    "    .select('Artist') \\\n",
    "    .groupBy('Artist') \\\n",
    "    .agg({'Artist':'count'}) \\\n",
    "    .withColumnRenamed('count(Artist)', 'Artistcount') \\\n",
    "    .sort(desc('Artistcount')) \\\n",
    "    .show(1)"
   ]
  },
  {
   "cell_type": "code",
   "execution_count": 62,
   "metadata": {},
   "outputs": [
    {
     "name": "stdout",
     "output_type": "stream",
     "text": [
      "+------------------+\n",
      "|avg(count(period))|\n",
      "+------------------+\n",
      "| 23.60389072847682|\n",
      "+------------------+\n",
      "\n"
     ]
    }
   ],
   "source": [
    "# Number of songs users listen to on average between visiting the home page\n",
    "\n",
    "function = udf(lambda ishome : int(ishome == 'Home'), IntegerType())\n",
    "\n",
    "user_window = Window \\\n",
    "    .partitionBy('userID') \\\n",
    "    .orderBy(desc('ts')) \\\n",
    "    .rangeBetween(Window.unboundedPreceding, 0)\n",
    "\n",
    "cusum = event_data.filter((event_data.page == 'NextSong') | (event_data.page == 'Home')) \\\n",
    "    .select('userID', 'page', 'ts') \\\n",
    "    .withColumn('homevisit', function(col('page'))) \\\n",
    "    .withColumn('period', sum('homevisit').over(user_window))\n",
    "\n",
    "cusum.filter((cusum.page == 'NextSong')) \\\n",
    "    .groupBy('userID', 'period') \\\n",
    "    .agg({'period':'count'}) \\\n",
    "    .agg({'count(period)':'avg'}).show()"
   ]
  },
  {
   "cell_type": "markdown",
   "metadata": {},
   "source": [
    "#### Statistics by time"
   ]
  },
  {
   "cell_type": "markdown",
   "metadata": {},
   "source": [
    "Let's see some statistics about how our users use sparkify"
   ]
  },
  {
   "cell_type": "code",
   "execution_count": 30,
   "metadata": {},
   "outputs": [],
   "source": [
    "get_hour = udf(lambda x: datetime.datetime.fromtimestamp(x / 1000.0). hour)"
   ]
  },
  {
   "cell_type": "code",
   "execution_count": 42,
   "metadata": {},
   "outputs": [],
   "source": [
    "event_data_valid = event_data_valid.withColumn(\"hour\", get_hour(event_data.ts))"
   ]
  },
  {
   "cell_type": "code",
   "execution_count": 43,
   "metadata": {},
   "outputs": [
    {
     "data": {
      "text/plain": [
       "Row(artist='Martha Tilston', auth='Logged In', firstName='Colin', gender='M', itemInSession=50, lastName='Freeman', length=277.89016, level='paid', location='Bakersfield, CA', method='PUT', page='NextSong', registration=1538173362000, sessionId=29, song='Rockpools', status=200, ts=1538352117000, userAgent='Mozilla/5.0 (Windows NT 6.1; WOW64; rv:31.0) Gecko/20100101 Firefox/31.0', userId='30', registration_date='2018-09-28 22:22:42', registration_year=2018, hour='0')"
      ]
     },
     "execution_count": 43,
     "metadata": {},
     "output_type": "execute_result"
    }
   ],
   "source": [
    "event_data_valid.head()"
   ]
  },
  {
   "cell_type": "code",
   "execution_count": 45,
   "metadata": {},
   "outputs": [],
   "source": [
    "songs_in_hour = event_data_valid.filter(event_data_valid.page == \"NextSong\").groupby(event_data_valid.hour).count().orderBy(event_data_valid.hour.cast(\"float\"))"
   ]
  },
  {
   "cell_type": "code",
   "execution_count": 46,
   "metadata": {},
   "outputs": [
    {
     "name": "stdout",
     "output_type": "stream",
     "text": [
      "+----+-----+\n",
      "|hour|count|\n",
      "+----+-----+\n",
      "|   0| 9062|\n",
      "|   1| 8388|\n",
      "|   2| 8336|\n",
      "|   3| 8355|\n",
      "|   4| 8147|\n",
      "|   5| 8178|\n",
      "|   6| 8054|\n",
      "|   7| 8091|\n",
      "|   8| 8253|\n",
      "|   9| 8498|\n",
      "|  10| 8882|\n",
      "|  11| 8830|\n",
      "|  12| 9326|\n",
      "|  13| 9644|\n",
      "|  14|10494|\n",
      "|  15|11354|\n",
      "|  16|11636|\n",
      "|  17|11460|\n",
      "|  18|11124|\n",
      "|  19|10930|\n",
      "+----+-----+\n",
      "only showing top 20 rows\n",
      "\n"
     ]
    }
   ],
   "source": [
    "songs_in_hour.show()"
   ]
  },
  {
   "cell_type": "code",
   "execution_count": 47,
   "metadata": {},
   "outputs": [],
   "source": [
    "songs_in_hour_pd = songs_in_hour.toPandas()\n",
    "songs_in_hour_pd.hour = pd.to_numeric(songs_in_hour_pd.hour)"
   ]
  },
  {
   "cell_type": "code",
   "execution_count": 48,
   "metadata": {},
   "outputs": [
    {
     "data": {
      "image/png": "[encoded data removed]",
      "text/plain": [
       "<matplotlib.figure.Figure at 0x7e6eb71b44a8>"
      ]
     },
     "metadata": {
      "needs_background": "light"
     },
     "output_type": "display_data"
    }
   ],
   "source": [
    "plt.scatter(songs_in_hour_pd[\"hour\"], songs_in_hour_pd[\"count\"])\n",
    "plt.xlim(-1, 24);\n",
    "#plt.ylim(0, 1.2 * max(songs_in_hour_pd[\"count\"]))\n",
    "plt.xlabel(\"Hour\")\n",
    "plt.ylabel(\"Songs played\");"
   ]
  },
  {
   "cell_type": "code",
   "execution_count": 49,
   "metadata": {
    "scrolled": true
   },
   "outputs": [
    {
     "name": "stdout",
     "output_type": "stream",
     "text": [
      "Average daily stats per user:\n",
      "+----------+------------------+--------------------------+\n",
      "|      date|avg_songs_per_user|avg_listening_time_minutes|\n",
      "+----------+------------------+--------------------------+\n",
      "|2018-10-01|             63.03|                    207.07|\n",
      "|2018-10-02|             79.52|                    259.91|\n",
      "|2018-10-03|             60.09|                    199.53|\n",
      "|2018-10-04|             67.32|                    223.22|\n",
      "|2018-10-05|             67.95|                    228.35|\n",
      "|2018-10-06|             78.96|                    261.33|\n",
      "|2018-10-07|             75.31|                    250.62|\n",
      "|2018-10-08|             80.27|                    271.95|\n",
      "|2018-10-09|             88.29|                    297.94|\n",
      "|2018-10-10|             92.21|                    314.75|\n",
      "|2018-10-11|             83.93|                    281.26|\n",
      "|2018-10-12|             93.07|                    312.56|\n",
      "|2018-10-13|              87.5|                    293.74|\n",
      "|2018-10-14|             73.03|                    243.82|\n",
      "|2018-10-15|             76.91|                    257.48|\n",
      "|2018-10-16|             90.66|                    308.01|\n",
      "|2018-10-17|             78.13|                    262.03|\n",
      "|2018-10-18|             85.24|                    289.07|\n",
      "|2018-10-19|             79.21|                    272.76|\n",
      "|2018-10-20|            123.85|                    423.27|\n",
      "+----------+------------------+--------------------------+\n",
      "only showing top 20 rows\n",
      "\n",
      "\n",
      "Overall average stats per user:\n",
      "+--------------------------+----------------------------------+\n",
      "|overall_avg_songs_per_user|overall_avg_listening_time_minutes|\n",
      "+--------------------------+----------------------------------+\n",
      "|                     86.72|                            295.56|\n",
      "+--------------------------+----------------------------------+\n",
      "\n"
     ]
    }
   ],
   "source": [
    "# the number of songs per day, including any repeat or partial listens, for the average user\n",
    "\n",
    "# Ensure proper data types and create date column\n",
    "event_data_cleaned = event_data_valid.withColumn(\"length\", col(\"length\").cast(DoubleType())) \\\n",
    "    .withColumn(\"userId\", col(\"userId\").cast(LongType())) \\\n",
    "    .withColumn(\"ts\", col(\"ts\").cast(LongType())) \\\n",
    "    .withColumn(\"date\", from_unixtime(col(\"ts\") / 1000).cast(DateType()))\n",
    "\n",
    "# Calculate total songs and listening time per user per day\n",
    "daily_user_stats = event_data_cleaned.groupBy(\"date\", \"userId\") \\\n",
    "    .agg(\n",
    "        count(\"*\").alias(\"songs_played\"),\n",
    "        expr(\"sum(case when length is not null then length else 0 end) / 60\").alias(\"daily_listening_time_minutes\")\n",
    "    )\n",
    "\n",
    "# Calculate average songs played and listening time per day across all users\n",
    "avg_daily_stats = daily_user_stats.groupBy(\"date\") \\\n",
    "    .agg(\n",
    "        avg(\"songs_played\").alias(\"avg_songs_per_user\"),\n",
    "        avg(\"daily_listening_time_minutes\").alias(\"avg_listening_time_minutes\")\n",
    "    )\n",
    "\n",
    "# Calculate the overall averages\n",
    "overall_avg = avg_daily_stats.select(\n",
    "    avg(\"avg_songs_per_user\").alias(\"overall_avg_songs_per_user\"),\n",
    "    avg(\"avg_listening_time_minutes\").alias(\"overall_avg_listening_time_minutes\")\n",
    ")\n",
    "\n",
    "# Round the results to 2 decimal places\n",
    "avg_daily_stats = avg_daily_stats.select(\n",
    "    \"date\",\n",
    "    round(\"avg_songs_per_user\", 2).alias(\"avg_songs_per_user\"),\n",
    "    round(\"avg_listening_time_minutes\", 2).alias(\"avg_listening_time_minutes\")\n",
    ")\n",
    "\n",
    "overall_avg = overall_avg.select(\n",
    "    round(\"overall_avg_songs_per_user\", 2).alias(\"overall_avg_songs_per_user\"),\n",
    "    round(\"overall_avg_listening_time_minutes\", 2).alias(\"overall_avg_listening_time_minutes\")\n",
    ")\n",
    "\n",
    "# Show results\n",
    "print(\"Average daily stats per user:\")\n",
    "avg_daily_stats.orderBy(\"date\").show(20)  # Showing more rows for a better overview\n",
    "\n",
    "print(\"\\nOverall average stats per user:\")\n",
    "overall_avg.show()"
   ]
  },
  {
   "cell_type": "code",
   "execution_count": 50,
   "metadata": {},
   "outputs": [],
   "source": [
    "# Make graph\n",
    "# Convert the Spark DataFrame to a Pandas DataFrame\n",
    "pandas_df = avg_daily_stats.orderBy(\"date\").toPandas()\n",
    "# Convert the 'date' column to datetime format\n",
    "pandas_df['date'] = pd.to_datetime(pandas_df['date'])"
   ]
  },
  {
   "cell_type": "code",
   "execution_count": 51,
   "metadata": {
    "scrolled": true
   },
   "outputs": [
    {
     "data": {
      "image/png": "[encoded data removed]",
      "text/plain": [
       "<matplotlib.figure.Figure at 0x7e6eb7a82898>"
      ]
     },
     "metadata": {
      "needs_background": "light"
     },
     "output_type": "display_data"
    }
   ],
   "source": [
    "# Create a figure and a set of subplots\n",
    "fig, ax1 = plt.subplots(figsize=(12, 6))\n",
    "\n",
    "# Plot avg_songs_per_user on the first y-axis\n",
    "ax1.plot(pandas_df['date'], pandas_df['avg_songs_per_user'], color='blue', marker='o', label='Avg Songs per User')\n",
    "ax1.set_xlabel('Date')\n",
    "ax1.set_ylabel('Avg Songs per User', color='blue')\n",
    "ax1.tick_params(axis='y', labelcolor='blue')\n",
    "\n",
    "# Create a second y-axis to plot avg_listening_time_minutes\n",
    "ax2 = ax1.twinx()\n",
    "ax2.plot(pandas_df['date'], pandas_df['avg_listening_time_minutes'], color='red', marker='o', label='Avg Listening Time (Minutes)')\n",
    "ax2.set_ylabel('Avg Listening Time (Minutes)', color='red')\n",
    "ax2.tick_params(axis='y', labelcolor='red')\n",
    "\n",
    "# Add a title and rotate date labels for better readability\n",
    "plt.title('Average Daily Stats per User')\n",
    "plt.xticks(rotation=45)\n",
    "\n",
    "# Show the plot\n",
    "plt.tight_layout()\n",
    "plt.show()"
   ]
  },
  {
   "cell_type": "markdown",
   "metadata": {},
   "source": [
    "In the plot we can see there was a upward trend both the average songs per user and average listening time. However, a sharp drop is detected in early December."
   ]
  },
  {
   "cell_type": "markdown",
   "metadata": {},
   "source": [
    "#### Core Metrics"
   ]
  },
  {
   "cell_type": "markdown",
   "metadata": {},
   "source": [
    "Now let's focus on some core metrics for understanding the current state of the Sparkify business.\n"
   ]
  },
  {
   "cell_type": "code",
   "execution_count": 52,
   "metadata": {},
   "outputs": [
    {
     "name": "stdout",
     "output_type": "stream",
     "text": [
      "Number of unique users who listened to at least one song in the past month: 180\n"
     ]
    }
   ],
   "source": [
    "# Monthly active users. \n",
    "# The number of unique users who listened to \n",
    "# at least one song in the past month.\n",
    "# Rather than looking at the total number of accounts,\n",
    "# this number gives us a better sense of\n",
    "# how many people are using the site on a regular basis.\n",
    "\n",
    "# Get the maximum timestamp from the data to use as the current timestamp\n",
    "max_timestamp = event_data_valid.agg(max(\"ts\")).collect()[0][0]\n",
    "\n",
    "# Calculate the timestamp for one month ago based on the maximum timestamp\n",
    "one_month_ago = max_timestamp - (30 * 24 * 60 * 60 * 1000)\n",
    "\n",
    "unique_users = event_data_valid.filter((col(\"page\") == \"NextSong\") & (col(\"ts\") >= one_month_ago)) \\\n",
    "    .select(\"userId\") \\\n",
    "    .distinct() \\\n",
    "    .count()\n",
    "\n",
    "print(f\"Number of unique users who listened to at least one song in the past month: {unique_users}\")"
   ]
  },
  {
   "cell_type": "code",
   "execution_count": 53,
   "metadata": {},
   "outputs": [
    {
     "name": "stdout",
     "output_type": "stream",
     "text": [
      "+----------+------------------+----------------------------------+\n",
      "|      date|daily_active_users|percentage_of_monthly_active_users|\n",
      "+----------+------------------+----------------------------------+\n",
      "|2018-11-17|                26|                14.444444444444443|\n",
      "|2018-11-26|                45|                              25.0|\n",
      "|2018-12-03|                 1|                0.5555555555555556|\n",
      "|2018-11-24|                34|                 18.88888888888889|\n",
      "|2018-11-05|                49|                 27.22222222222222|\n",
      "|2018-12-01|                 3|                1.6666666666666667|\n",
      "|2018-11-12|                50|                 27.77777777777778|\n",
      "|2018-11-08|                48|                26.666666666666668|\n",
      "|2018-11-29|                43|                 23.88888888888889|\n",
      "|2018-11-16|                54|                              30.0|\n",
      "|2018-11-15|                51|                28.333333333333332|\n",
      "|2018-11-07|                44|                24.444444444444443|\n",
      "|2018-11-28|                50|                 27.77777777777778|\n",
      "|2018-11-13|                49|                 27.22222222222222|\n",
      "|2018-11-30|                52|                28.888888888888886|\n",
      "|2018-11-22|                33|                18.333333333333332|\n",
      "|2018-11-10|                31|                 17.22222222222222|\n",
      "|2018-11-21|                63|                              35.0|\n",
      "|2018-11-03|                38|                 21.11111111111111|\n",
      "|2018-11-23|                57|                31.666666666666664|\n",
      "+----------+------------------+----------------------------------+\n",
      "only showing top 20 rows\n",
      "\n"
     ]
    }
   ],
   "source": [
    "# Daily active users for each day in the past month.\n",
    "# Both the total number and the percentage of the monthly active users.\n",
    "# The daily actives help us understand how engaged our users are.\n",
    "# Do they casually use Sparkify every now and\n",
    "# then or does your service keep them coming back every day?\n",
    "\n",
    "# Get the maximum timestamp from the data to use as the current timestamp\n",
    "max_timestamp = event_data_valid.agg(max(\"ts\")).collect()[0][0]\n",
    "\n",
    "# Calculate the timestamp for one month ago based on the maximum timestamp\n",
    "one_month_ago = max_timestamp - (30 * 24 * 60 * 60 * 1000)\n",
    "\n",
    "# Filter the data for the last month and extract the date\n",
    "daily_active_users = event_data_valid.filter(col(\"ts\") >= one_month_ago) \\\n",
    "    .groupBy(to_date(from_unixtime(col(\"ts\") / 1000)).alias(\"date\")) \\\n",
    "    .agg(countDistinct(\"userId\").alias(\"daily_active_users\"))\n",
    "\n",
    "# Calculate the total monthly active users\n",
    "total_monthly_active_users = event_data_valid.filter(col(\"ts\") >= one_month_ago) \\\n",
    "    .select(\"userId\") \\\n",
    "    .distinct() \\\n",
    "    .count()\n",
    "\n",
    "# Calculate the percentage of daily active users relative to monthly active users\n",
    "daily_active_users = daily_active_users.withColumn(\"percentage_of_monthly_active_users\", \n",
    "    (col(\"daily_active_users\") / total_monthly_active_users) * 100)\n",
    "\n",
    "daily_active_users.show()"
   ]
  },
  {
   "cell_type": "markdown",
   "metadata": {},
   "source": [
    "In line with the plot of average listening time and songes per user, we can observe a sharp drop of active users from 53 in november 30th to 3 in December, 3rd."
   ]
  },
  {
   "cell_type": "code",
   "execution_count": 54,
   "metadata": {},
   "outputs": [
    {
     "name": "stdout",
     "output_type": "stream",
     "text": [
      "+-----+-----------+\n",
      "|level|total_users|\n",
      "+-----+-----------+\n",
      "| free|        195|\n",
      "| paid|        165|\n",
      "+-----+-----------+\n",
      "\n"
     ]
    }
   ],
   "source": [
    "# Total number of paid and unpaid users\n",
    "# This metric is tied directly to the monthly revenue that Sparkify earns.\n",
    "\n",
    "# Count the total number of paid and unpaid users\n",
    "user_counts = event_data_valid.groupBy(\"level\") \\\n",
    "    .agg(countDistinct(\"userId\").alias(\"total_users\")) \\\n",
    "    .orderBy(\"level\")\n",
    "\n",
    "user_counts.show()"
   ]
  },
  {
   "cell_type": "markdown",
   "metadata": {},
   "source": [
    "#### Cohort analysis"
   ]
  },
  {
   "cell_type": "markdown",
   "metadata": {},
   "source": [
    "The main idea of cohort analysis is that someone who joins Sparkify a year ago probably behaves differently than a brand new user.\n",
    "So, we should analyze them in separate groups called cohorts.\n",
    "For each cohort, we can calculate two metrics: the percentage of users who upgrade to paid accounts within their first three months, and the percentage who cancel within three months. However, for this dataset we only have data of two months in 2018, so it is not possible to develop a cohort analysis.\n"
   ]
  },
  {
   "cell_type": "markdown",
   "metadata": {},
   "source": [
    "#### Churn"
   ]
  },
  {
   "cell_type": "markdown",
   "metadata": {},
   "source": [
    "Customer churn prediction identifies which customers are at a high risk of canceling their subscription or abandoning your product.\n",
    "Churn prediction allows us to tell whether a customer will leave and why.\n",
    "Source:\n",
    "https://userpilot.com/blog/churn-prediction/\n",
    "\n",
    "In this analysis I will create a column Churn to use as the label for your model. I'll use the Cancellation Confirmation events to define churn, which happen for both paid and free users, as well as the Downgrade events."
   ]
  },
  {
   "cell_type": "code",
   "execution_count": 55,
   "metadata": {},
   "outputs": [
    {
     "name": "stdout",
     "output_type": "stream",
     "text": [
      "+------+---------+---------+------+-------------+---------+------+-----+--------------------+------+----------------+-------------+---------+----+------+-------------+--------------------+------+-------------------+-----------------+----+\n",
      "|artist|     auth|firstName|gender|itemInSession| lastName|length|level|            location|method|            page| registration|sessionId|song|status|           ts|           userAgent|userId|  registration_date|registration_year|hour|\n",
      "+------+---------+---------+------+-------------+---------+------+-----+--------------------+------+----------------+-------------+---------+----+------+-------------+--------------------+------+-------------------+-----------------+----+\n",
      "|  null|Logged In|     Kael|     M|           47|    Baker|  null| paid|Kingsport-Bristol...|   PUT|Submit Downgrade|1533102330000|      249|null|   307|1538393619000|\"Mozilla/5.0 (Mac...|   131|2018-08-01 05:45:30|             2018|  11|\n",
      "|  null|Logged In|   Calvin|     M|           17| Marshall|  null| paid|      Pittsburgh, PA|   PUT|Submit Downgrade|1537120757000|      313|null|   307|1538516445000|\"Mozilla/5.0 (Mac...|    38|2018-09-16 17:59:17|             2018|  21|\n",
      "|  null|Logged In|  Kaylenn|     F|          354|  Jenkins|  null| paid|           Price, UT|   PUT|Submit Downgrade|1535903878000|      479|null|   307|1538835479000|\"Mozilla/5.0 (Mac...|   141|2018-09-02 15:57:58|             2018|  14|\n",
      "|  null|Logged In|    Colin|     M|          214|  Freeman|  null| paid|     Bakersfield, CA|   PUT|Submit Downgrade|1538173362000|      532|null|   307|1538995454000|Mozilla/5.0 (Wind...|    30|2018-09-28 22:22:42|             2018|  10|\n",
      "|  null|Logged In|  Destiny|     F|            2|  Herring|  null| paid|Miami-Fort Lauder...|   PUT|Submit Downgrade|1536844410000|      378|null|   307|1538997356000|\"Mozilla/5.0 (Win...|    20|2018-09-13 13:13:30|             2018|  11|\n",
      "|  null|Logged In|   Sophia|     F|           42|    Perry|  null| paid|Los Angeles-Long ...|   PUT|Submit Downgrade|1533885783000|      632|null|   307|1539144047000|Mozilla/5.0 (Wind...|    12|2018-08-10 07:23:03|             2018|   4|\n",
      "|  null|Logged In|      Zoe|     F|           23|    Patel|  null| paid|Providence-Warwic...|   PUT|Submit Downgrade|1532554781000|      487|null|   307|1539239742000|Mozilla/5.0 (Wind...|    11|2018-07-25 21:39:41|             2018|   6|\n",
      "|  null|Logged In|   Parker|     M|          636| Williams|  null| paid|San Francisco-Oak...|   PUT|Submit Downgrade|1537188538000|      529|null|   307|1539244188000|\"Mozilla/5.0 (iPh...|    61|2018-09-17 12:48:58|             2018|   7|\n",
      "|  null|Logged In|   Oliver|     M|           89|  Gilbert|  null| paid|Philadelphia-Camd...|   PUT|Submit Downgrade|1535093367000|      725|null|   307|1539264337000|\"Mozilla/5.0 (Mac...|    81|2018-08-24 06:49:27|             2018|  13|\n",
      "|  null|Logged In|  Brayden|     M|          113|   Thomas|  null| paid|Los Angeles-Long ...|   PUT|Submit Downgrade|1534133898000|      734|null|   307|1539335599000|\"Mozilla/5.0 (Mac...|    85|2018-08-13 04:18:18|             2018|   9|\n",
      "|  null|Logged In|   Lucero|     F|           19|     Reed|  null| paid|Louisville/Jeffer...|   PUT|Submit Downgrade|1536642109000|      753|null|   307|1539337383000|\"Mozilla/5.0 (Win...|   140|2018-09-11 05:01:49|             2018|   9|\n",
      "|  null|Logged In|     Lily|     F|           69|  Barnett|  null| paid|Washington-Arling...|   PUT|Submit Downgrade|1537053412000|      812|null|   307|1539467798000|\"Mozilla/5.0 (Mac...|    35|2018-09-15 23:16:52|             2018|  21|\n",
      "|  null|Logged In|    Alexi|     F|           41|   Warren|  null| paid|Spokane-Spokane V...|   PUT|Submit Downgrade|1532482662000|      859|null|   307|1539608060000|Mozilla/5.0 (Wind...|    54|2018-07-25 01:37:42|             2018|  12|\n",
      "|  null|Logged In|   Autumn|     F|           53|   Martin|  null| paid|     Gainesville, FL|   PUT|Submit Downgrade|1537749786000|      688|null|   307|1539608338000|\"Mozilla/5.0 (Win...|    77|2018-09-24 00:43:06|             2018|  12|\n",
      "|  null|Logged In|   Jaleel|     M|          180|Maldonado|  null| paid|         Boulder, CO|   PUT|Submit Downgrade|1537890437000|      510|null|   307|1539633167000|Mozilla/5.0 (Wind...|    59|2018-09-25 15:47:17|             2018|  19|\n",
      "|  null|Logged In|    Piper|     F|          210|  Nielsen|  null| paid|New York-Newark-J...|   PUT|Submit Downgrade|1537699856000|      865|null|   307|1539647785000|\"Mozilla/5.0 (Mac...|   103|2018-09-23 10:50:56|             2018|  23|\n",
      "|  null|Logged In|    Faigy|     F|          101|     Howe|  null| paid|Phoenix-Mesa-Scot...|   PUT|Submit Downgrade|1538211832000|      826|null|   307|1539675894000|Mozilla/5.0 (Maci...|    95|2018-09-29 09:03:52|             2018|   7|\n",
      "|  null|Logged In|  Ashlynn|     F|          303| Williams|  null| paid|     Tallahassee, FL|   PUT|Submit Downgrade|1537365219000|     1101|null|   307|1540235073000|\"Mozilla/5.0 (Mac...|    74|2018-09-19 13:53:39|             2018|  19|\n",
      "|  null|Logged In|  Brayden|     M|          105|   Thomas|  null| paid|Los Angeles-Long ...|   PUT|Submit Downgrade|1534133898000|     1183|null|   307|1540383285000|\"Mozilla/5.0 (Mac...|    85|2018-08-13 04:18:18|             2018|  12|\n",
      "|  null|Logged In|    Micah|     M|           11|     Long|  null| paid|Boston-Cambridge-...|   PUT|Submit Downgrade|1538331630000|     1276|null|   307|1540706007000|\"Mozilla/5.0 (Win...|     9|2018-09-30 18:20:30|             2018|   5|\n",
      "+------+---------+---------+------+-------------+---------+------+-----+--------------------+------+----------------+-------------+---------+----+------+-------------+--------------------+------+-------------------+-----------------+----+\n",
      "only showing top 20 rows\n",
      "\n"
     ]
    }
   ],
   "source": [
    "# View Submit Downgrade events\n",
    "event_data_valid.filter(\"page = 'Submit Downgrade'\").show()"
   ]
  },
  {
   "cell_type": "code",
   "execution_count": 10,
   "metadata": {},
   "outputs": [
    {
     "name": "stdout",
     "output_type": "stream",
     "text": [
      "+------+---------+---------+------+-------------+---------+------+-----+--------------------+------+--------------------+-------------+---------+----+------+-------------+--------------------+------+\n",
      "|artist|     auth|firstName|gender|itemInSession| lastName|length|level|            location|method|                page| registration|sessionId|song|status|           ts|           userAgent|userId|\n",
      "+------+---------+---------+------+-------------+---------+------+-----+--------------------+------+--------------------+-------------+---------+----+------+-------------+--------------------+------+\n",
      "|  null|Cancelled|   Adriel|     M|          104|  Mendoza|  null| paid|  Kansas City, MO-KS|   GET|Cancellation Conf...|1535623466000|      514|null|   200|1538943990000|\"Mozilla/5.0 (Mac...|    18|\n",
      "|  null|Cancelled|    Diego|     M|           56|    Mckee|  null| paid|Phoenix-Mesa-Scot...|   GET|Cancellation Conf...|1537167593000|      540|null|   200|1539033046000|\"Mozilla/5.0 (iPh...|    32|\n",
      "|  null|Cancelled|    Mason|     M|           10|     Hart|  null| free|  Corpus Christi, TX|   GET|Cancellation Conf...|1533157139000|      174|null|   200|1539318918000|\"Mozilla/5.0 (Mac...|   125|\n",
      "|  null|Cancelled|Alexander|     M|          332|   Garcia|  null| paid|Indianapolis-Carm...|   GET|Cancellation Conf...|1536817381000|      508|null|   200|1539375441000|Mozilla/5.0 (Wind...|   105|\n",
      "|  null|Cancelled|    Kayla|     F|          273|  Johnson|  null| paid|Philadelphia-Camd...|   GET|Cancellation Conf...|1538333829000|      797|null|   200|1539465584000|Mozilla/5.0 (Wind...|    17|\n",
      "|  null|Cancelled|    Molly|     F|           29| Harrison|  null| free|Virginia Beach-No...|   GET|Cancellation Conf...|1534255113000|      843|null|   200|1539588854000|\"Mozilla/5.0 (Mac...|   143|\n",
      "|  null|Cancelled|     Alex|     M|          145|    Hogan|  null| paid|Denver-Aurora-Lak...|   GET|Cancellation Conf...|1535066380000|      842|null|   200|1539729037000|Mozilla/5.0 (Wind...|   101|\n",
      "|  null|Cancelled|    Davis|     M|           34|     Wang|  null| paid|           Flint, MI|   GET|Cancellation Conf...|1538289776000|      802|null|   200|1539736161000|\"Mozilla/5.0 (Win...|   129|\n",
      "|  null|Cancelled|  Nikolas|     M|          287|    Olsen|  null| paid|Oxnard-Thousand O...|   GET|Cancellation Conf...|1528403713000|      881|null|   200|1539759749000|Mozilla/5.0 (X11;...|   121|\n",
      "|  null|Cancelled|    Ethan|     M|          176|  Johnson|  null| paid|Lexington-Fayette...|   GET|Cancellation Conf...|1538080987000|      934|null|   200|1539761972000|\"Mozilla/5.0 (Win...|    51|\n",
      "|  null|Cancelled|Christian|     M|          100| Robinson|  null| paid|       Quincy, IL-MO|   GET|Cancellation Conf...|1534942082000|     1092|null|   200|1540050556000|\"Mozilla/5.0 (Win...|    87|\n",
      "|  null|Cancelled|    Molly|     F|           43|Patterson|  null| paid|   Memphis, TN-MS-AR|   GET|Cancellation Conf...|1535498705000|     1029|null|   200|1540062068000|Mozilla/5.0 (X11;...|   122|\n",
      "|  null|Cancelled|   Sophia|     F|           72|    Perry|  null| paid|Los Angeles-Long ...|   GET|Cancellation Conf...|1533885783000|     1072|null|   200|1540193374000|Mozilla/5.0 (Wind...|    12|\n",
      "|  null|Cancelled|    Erick|     M|           48|   Brooks|  null| paid|           Selma, AL|   GET|Cancellation Conf...|1537956751000|     1112|null|   200|1540223006000|\"Mozilla/5.0 (Win...|    58|\n",
      "|  null|Cancelled|   Rachel|     F|           11|   Bailey|  null| paid|Albany-Schenectad...|   GET|Cancellation Conf...|1536102943000|     1059|null|   200|1540402387000|Mozilla/5.0 (Wind...|    73|\n",
      "|  null|Cancelled|  Jeffery|     M|           46|  Wheeler|  null| paid|         Bozeman, MT|   GET|Cancellation Conf...|1533886191000|     1324|null|   200|1540875543000|\"Mozilla/5.0 (Win...|     3|\n",
      "|  null|Cancelled|   Sophia|     F|           18|      Key|  null| paid|Los Angeles-Long ...|   GET|Cancellation Conf...|1537679535000|     1383|null|   200|1541166424000|\"Mozilla/5.0 (Mac...|   106|\n",
      "|  null|Cancelled|    Piper|     F|            8|  Nielsen|  null| paid|New York-Newark-J...|   GET|Cancellation Conf...|1537699856000|     1583|null|   200|1541340091000|\"Mozilla/5.0 (Mac...|   103|\n",
      "|  null|Cancelled|   Teagan|     F|          306|  Roberts|  null| paid|New Philadelphia-...|   GET|Cancellation Conf...|1537634865000|     1519|null|   200|1541463632000|Mozilla/5.0 (Wind...|    28|\n",
      "|  null|Cancelled|    Alexi|     F|           42|   Warren|  null| paid|Spokane-Spokane V...|   GET|Cancellation Conf...|1532482662000|     1819|null|   200|1542051608000|Mozilla/5.0 (Wind...|    54|\n",
      "+------+---------+---------+------+-------------+---------+------+-----+--------------------+------+--------------------+-------------+---------+----+------+-------------+--------------------+------+\n",
      "only showing top 20 rows\n",
      "\n"
     ]
    }
   ],
   "source": [
    "# View Cancellation Confirmation events\n",
    "event_data_valid.filter(\"page = 'Cancellation Confirmation'\").show()"
   ]
  },
  {
   "cell_type": "code",
   "execution_count": 16,
   "metadata": {},
   "outputs": [
    {
     "data": {
      "text/plain": [
       "[Row(userId='122', firstname='Molly', page='Home', level='free', song=None),\n",
       " Row(userId='122', firstname='Molly', page='Logout', level='free', song=None),\n",
       " Row(userId='122', firstname='Molly', page='Home', level='free', song=None),\n",
       " Row(userId='122', firstname='Molly', page='NextSong', level='free', song='Old School Rules (Album Version)'),\n",
       " Row(userId='122', firstname='Molly', page='NextSong', level='free', song='Kiss With A Fist'),\n",
       " Row(userId='122', firstname='Molly', page='NextSong', level='free', song='Serve Chilled'),\n",
       " Row(userId='122', firstname='Molly', page='NextSong', level='free', song='Mona Lisa (When The World Comes Down)'),\n",
       " Row(userId='122', firstname='Molly', page='NextSong', level='free', song='The Memory Remains'),\n",
       " Row(userId='122', firstname='Molly', page='Roll Advert', level='free', song=None),\n",
       " Row(userId='122', firstname='Molly', page='Home', level='free', song=None),\n",
       " Row(userId='122', firstname='Molly', page='NextSong', level='free', song='Doraville'),\n",
       " Row(userId='122', firstname='Molly', page='NextSong', level='free', song='Alejandro'),\n",
       " Row(userId='122', firstname='Molly', page='NextSong', level='free', song='Live And Let Die'),\n",
       " Row(userId='122', firstname='Molly', page='NextSong', level='free', song='Girls Just Want To Have Fun'),\n",
       " Row(userId='122', firstname='Molly', page='Roll Advert', level='free', song=None),\n",
       " Row(userId='122', firstname='Molly', page='NextSong', level='free', song='Sea Of Love'),\n",
       " Row(userId='122', firstname='Molly', page='NextSong', level='free', song='Wild Weekend'),\n",
       " Row(userId='122', firstname='Molly', page='Home', level='free', song=None),\n",
       " Row(userId='122', firstname='Molly', page='NextSong', level='free', song='Back Against The Wall'),\n",
       " Row(userId='122', firstname='Molly', page='Home', level='free', song=None),\n",
       " Row(userId='122', firstname='Molly', page='NextSong', level='free', song='Belle de Jour'),\n",
       " Row(userId='122', firstname='Molly', page='NextSong', level='free', song='Time To Get Up'),\n",
       " Row(userId='122', firstname='Molly', page='Upgrade', level='free', song=None),\n",
       " Row(userId='122', firstname='Molly', page='Upgrade', level='free', song=None),\n",
       " Row(userId='122', firstname='Molly', page='Submit Upgrade', level='free', song=None),\n",
       " Row(userId='122', firstname='Molly', page='Home', level='paid', song=None),\n",
       " Row(userId='122', firstname='Molly', page='Add Friend', level='paid', song=None),\n",
       " Row(userId='122', firstname='Molly', page='NextSong', level='paid', song='MarÃ\\x83Â\\xada Caracoles (Mozambique)'),\n",
       " Row(userId='122', firstname='Molly', page='NextSong', level='paid', song=\"Why Don't You Smile Now?\"),\n",
       " Row(userId='122', firstname='Molly', page='NextSong', level='paid', song='Pojo Pojo'),\n",
       " Row(userId='122', firstname='Molly', page='NextSong', level='paid', song='Restless'),\n",
       " Row(userId='122', firstname='Molly', page='NextSong', level='paid', song='Tive Sim'),\n",
       " Row(userId='122', firstname='Molly', page='Thumbs Up', level='paid', song=None),\n",
       " Row(userId='122', firstname='Molly', page='NextSong', level='paid', song='Geography'),\n",
       " Row(userId='122', firstname='Molly', page='NextSong', level='paid', song='Through The Wire'),\n",
       " Row(userId='122', firstname='Molly', page='NextSong', level='paid', song='Boombox'),\n",
       " Row(userId='122', firstname='Molly', page='NextSong', level='paid', song='Kiss Me Thru The Phone'),\n",
       " Row(userId='122', firstname='Molly', page='NextSong', level='paid', song='Never Trust'),\n",
       " Row(userId='122', firstname='Molly', page='NextSong', level='paid', song='I Love You Always Forever ( LP Version )'),\n",
       " Row(userId='122', firstname='Molly', page='NextSong', level='paid', song='Pocket Porn (1990)'),\n",
       " Row(userId='122', firstname='Molly', page='NextSong', level='paid', song='Sad Lisa'),\n",
       " Row(userId='122', firstname='Molly', page='NextSong', level='paid', song='Triste CanciÃ\\x83Â³n De Amor'),\n",
       " Row(userId='122', firstname='Molly', page='NextSong', level='paid', song='Take The Devil (LP Version)'),\n",
       " Row(userId='122', firstname='Molly', page='Thumbs Down', level='paid', song=None),\n",
       " Row(userId='122', firstname='Molly', page='NextSong', level='paid', song='Dashboard'),\n",
       " Row(userId='122', firstname='Molly', page='NextSong', level='paid', song='Found Home'),\n",
       " Row(userId='122', firstname='Molly', page='NextSong', level='paid', song='Daytona Demon'),\n",
       " Row(userId='122', firstname='Molly', page='Thumbs Up', level='paid', song=None),\n",
       " Row(userId='122', firstname='Molly', page='NextSong', level='paid', song='Running'),\n",
       " Row(userId='122', firstname='Molly', page='NextSong', level='paid', song='Le~aj od suza'),\n",
       " Row(userId='122', firstname='Molly', page='NextSong', level='paid', song='Just as I Am'),\n",
       " Row(userId='122', firstname='Molly', page='NextSong', level='paid', song='Chamber Music'),\n",
       " Row(userId='122', firstname='Molly', page='NextSong', level='paid', song=\"She's Everything\"),\n",
       " Row(userId='122', firstname='Molly', page='NextSong', level='paid', song=\"Someday We'll Know\"),\n",
       " Row(userId='122', firstname='Molly', page='NextSong', level='paid', song='My First Kiss (Feat. Ke$ha) [Album Version]'),\n",
       " Row(userId='122', firstname='Molly', page='NextSong', level='paid', song=\"I?'m A Steady Rollin? Man\"),\n",
       " Row(userId='122', firstname='Molly', page='Thumbs Up', level='paid', song=None),\n",
       " Row(userId='122', firstname='Molly', page='Add to Playlist', level='paid', song=None),\n",
       " Row(userId='122', firstname='Molly', page='NextSong', level='paid', song='Introducing Tobacco To Civilization (LP Version)'),\n",
       " Row(userId='122', firstname='Molly', page='Settings', level='paid', song=None),\n",
       " Row(userId='122', firstname='Molly', page='Cancel', level='paid', song=None),\n",
       " Row(userId='122', firstname='Molly', page='Cancellation Confirmation', level='paid', song=None)]"
      ]
     },
     "execution_count": 16,
     "metadata": {},
     "output_type": "execute_result"
    }
   ],
   "source": [
    "# Visualize cancelling user events\n",
    "event_data_valid.select([\"userId\", \"firstname\", \"page\", \"level\", \"song\"]).where(event_data.userId == \"122\").collect()"
   ]
  },
  {
   "cell_type": "code",
   "execution_count": 9,
   "metadata": {},
   "outputs": [],
   "source": [
    "# Create flags for cancellation and downgrade events\n",
    "event_data_valid = event_data_valid.withColumn(\n",
    "    \"cancellation_flag\",\n",
    "    when(col(\"page\") == \"Cancellation Confirmation\", 1).otherwise(0)\n",
    ")\n",
    "\n",
    "event_data_valid = event_data_valid.withColumn(\n",
    "    \"downgrade_flag\",\n",
    "    when(col(\"page\") == \"Submit Downgrade\", 1).otherwise(0)\n",
    ")"
   ]
  },
  {
   "cell_type": "code",
   "execution_count": 10,
   "metadata": {},
   "outputs": [],
   "source": [
    "# Aggregate by userId to determine if they have churned via cancellation or downgrade\n",
    "user_churn = event_data_valid.groupBy(\"userId\").agg(\n",
    "    max(\"cancellation_flag\").alias(\"cancellation\"),\n",
    "    max(\"downgrade_flag\").alias(\"downgrade\")\n",
    ")"
   ]
  },
  {
   "cell_type": "code",
   "execution_count": 11,
   "metadata": {},
   "outputs": [
    {
     "name": "stdout",
     "output_type": "stream",
     "text": [
      "+------+------------+---------+-----+\n",
      "|userId|cancellation|downgrade|churn|\n",
      "+------+------------+---------+-----+\n",
      "|100010|           0|        0|    0|\n",
      "|200002|           0|        0|    0|\n",
      "|   125|           1|        0|    2|\n",
      "|    51|           1|        0|    2|\n",
      "|   124|           0|        0|    0|\n",
      "|     7|           0|        0|    0|\n",
      "|    54|           1|        1|    2|\n",
      "|    15|           0|        0|    0|\n",
      "|   155|           0|        0|    0|\n",
      "|   132|           0|        0|    0|\n",
      "+------+------------+---------+-----+\n",
      "only showing top 10 rows\n",
      "\n"
     ]
    }
   ],
   "source": [
    "# Create a churn_type column\n",
    "user_churn = user_churn.withColumn(\n",
    "    \"churn\",\n",
    "    when(col(\"cancellation\") == 1, 2)\n",
    "    .when(col(\"downgrade\") == 1, 1)\n",
    "    .otherwise(0)\n",
    ")\n",
    "\n",
    "# Show the resulting user churn DataFrame\n",
    "user_churn.select(\"userId\", \"cancellation\", \"downgrade\", \"churn\").show(10)"
   ]
  },
  {
   "cell_type": "code",
   "execution_count": 12,
   "metadata": {},
   "outputs": [],
   "source": [
    "# Join the churn type back to the original data\n",
    "event_data_with_churn = event_data_valid.join(user_churn, on=\"userId\", how=\"left\")"
   ]
  },
  {
   "cell_type": "code",
   "execution_count": 61,
   "metadata": {},
   "outputs": [
    {
     "data": {
      "text/plain": [
       "Row(userId='100010', artist='Sleeping With Sirens', auth='Logged In', firstName='Darianna', gender='F', itemInSession=0, lastName='Carpenter', length=202.97098, level='free', location='Bridgeport-Stamford-Norwalk, CT', method='PUT', page='NextSong', registration=1538016340000, sessionId=31, song='Captain Tyin Knots VS Mr Walkway (No Way)', status=200, ts=1539003534000, userAgent='\"Mozilla/5.0 (iPhone; CPU iPhone OS 7_1_2 like Mac OS X) AppleWebKit/537.51.2 (KHTML, like Gecko) Version/7.0 Mobile/11D257 Safari/9537.53\"', registration_date='2018-09-27 02:45:40', registration_year=2018, hour='12', cancellation_flag=0, downgrade_flag=0, cancellation=0, downgrade=0, churn=0)"
      ]
     },
     "execution_count": 61,
     "metadata": {},
     "output_type": "execute_result"
    }
   ],
   "source": [
    "event_data_with_churn.head() "
   ]
  },
  {
   "cell_type": "code",
   "execution_count": 12,
   "metadata": {},
   "outputs": [
    {
     "name": "stdout",
     "output_type": "stream",
     "text": [
      "+-----+-----------+\n",
      "|churn|total_users|\n",
      "+-----+-----------+\n",
      "|    0|        133|\n",
      "|    1|         40|\n",
      "|    2|         52|\n",
      "+-----+-----------+\n",
      "\n"
     ]
    }
   ],
   "source": [
    "# Count the total number of churned users\n",
    "user_counts = event_data_with_churn.groupBy(\"churn\") \\\n",
    "    .agg(countDistinct(\"userId\").alias(\"total_users\")) \\\n",
    "    .orderBy(\"churn\")\n",
    "\n",
    "user_counts.show()"
   ]
  },
  {
   "cell_type": "code",
   "execution_count": 13,
   "metadata": {},
   "outputs": [],
   "source": [
    "# Add window partition\n",
    "windowval = Window.partitionBy(\"userId\").orderBy(desc(\"ts\")).rangeBetween(Window.unboundedPreceding, 0)"
   ]
  },
  {
   "cell_type": "code",
   "execution_count": 14,
   "metadata": {},
   "outputs": [],
   "source": [
    "# Add phase column\n",
    "event_data_with_churn = event_data_with_churn.withColumn(\"phase\", sum(\"churn\").over(windowval))"
   ]
  },
  {
   "cell_type": "code",
   "execution_count": 27,
   "metadata": {},
   "outputs": [
    {
     "data": {
      "text/plain": [
       "[Row(userId='122', firstname='Molly', ts=1538657235000, page='Home', level='free', phase=124),\n",
       " Row(userId='122', firstname='Molly', ts=1538657236000, page='Logout', level='free', phase=122),\n",
       " Row(userId='122', firstname='Molly', ts=1539173538000, page='Home', level='free', phase=120),\n",
       " Row(userId='122', firstname='Molly', ts=1539173664000, page='NextSong', level='free', phase=118),\n",
       " Row(userId='122', firstname='Molly', ts=1539173824000, page='NextSong', level='free', phase=116),\n",
       " Row(userId='122', firstname='Molly', ts=1539173955000, page='NextSong', level='free', phase=114),\n",
       " Row(userId='122', firstname='Molly', ts=1539174264000, page='NextSong', level='free', phase=112),\n",
       " Row(userId='122', firstname='Molly', ts=1539174458000, page='NextSong', level='free', phase=110),\n",
       " Row(userId='122', firstname='Molly', ts=1539174569000, page='Roll Advert', level='free', phase=108),\n",
       " Row(userId='122', firstname='Molly', ts=1539886900000, page='Home', level='free', phase=106),\n",
       " Row(userId='122', firstname='Molly', ts=1539886903000, page='NextSong', level='free', phase=104),\n",
       " Row(userId='122', firstname='Molly', ts=1539887120000, page='NextSong', level='free', phase=102),\n",
       " Row(userId='122', firstname='Molly', ts=1539887394000, page='NextSong', level='free', phase=100),\n",
       " Row(userId='122', firstname='Molly', ts=1539887578000, page='NextSong', level='free', phase=98),\n",
       " Row(userId='122', firstname='Molly', ts=1539887683000, page='Roll Advert', level='free', phase=96),\n",
       " Row(userId='122', firstname='Molly', ts=1539887806000, page='NextSong', level='free', phase=94),\n",
       " Row(userId='122', firstname='Molly', ts=1539887948000, page='NextSong', level='free', phase=92),\n",
       " Row(userId='122', firstname='Molly', ts=1539888010000, page='Home', level='free', phase=90),\n",
       " Row(userId='122', firstname='Molly', ts=1540055184000, page='NextSong', level='free', phase=88),\n",
       " Row(userId='122', firstname='Molly', ts=1540055184000, page='Home', level='free', phase=88),\n",
       " Row(userId='122', firstname='Molly', ts=1540055412000, page='NextSong', level='free', phase=84),\n",
       " Row(userId='122', firstname='Molly', ts=1540055632000, page='NextSong', level='free', phase=82),\n",
       " Row(userId='122', firstname='Molly', ts=1540055690000, page='Upgrade', level='free', phase=80),\n",
       " Row(userId='122', firstname='Molly', ts=1540055771000, page='Upgrade', level='free', phase=78),\n",
       " Row(userId='122', firstname='Molly', ts=1540055772000, page='Submit Upgrade', level='free', phase=76),\n",
       " Row(userId='122', firstname='Molly', ts=1540055776000, page='Home', level='paid', phase=74),\n",
       " Row(userId='122', firstname='Molly', ts=1540055777000, page='Add Friend', level='paid', phase=72),\n",
       " Row(userId='122', firstname='Molly', ts=1540055859000, page='NextSong', level='paid', phase=70),\n",
       " Row(userId='122', firstname='Molly', ts=1540056147000, page='NextSong', level='paid', phase=68),\n",
       " Row(userId='122', firstname='Molly', ts=1540056491000, page='NextSong', level='paid', phase=66),\n",
       " Row(userId='122', firstname='Molly', ts=1540056794000, page='NextSong', level='paid', phase=64),\n",
       " Row(userId='122', firstname='Molly', ts=1540056965000, page='NextSong', level='paid', phase=62),\n",
       " Row(userId='122', firstname='Molly', ts=1540056966000, page='Thumbs Up', level='paid', phase=60),\n",
       " Row(userId='122', firstname='Molly', ts=1540057092000, page='NextSong', level='paid', phase=58),\n",
       " Row(userId='122', firstname='Molly', ts=1540057285000, page='NextSong', level='paid', phase=56),\n",
       " Row(userId='122', firstname='Molly', ts=1540057563000, page='NextSong', level='paid', phase=54),\n",
       " Row(userId='122', firstname='Molly', ts=1540057755000, page='NextSong', level='paid', phase=52),\n",
       " Row(userId='122', firstname='Molly', ts=1540057949000, page='NextSong', level='paid', phase=50),\n",
       " Row(userId='122', firstname='Molly', ts=1540058302000, page='NextSong', level='paid', phase=48),\n",
       " Row(userId='122', firstname='Molly', ts=1540058542000, page='NextSong', level='paid', phase=46),\n",
       " Row(userId='122', firstname='Molly', ts=1540058766000, page='NextSong', level='paid', phase=44),\n",
       " Row(userId='122', firstname='Molly', ts=1540058991000, page='NextSong', level='paid', phase=42),\n",
       " Row(userId='122', firstname='Molly', ts=1540059298000, page='NextSong', level='paid', phase=40),\n",
       " Row(userId='122', firstname='Molly', ts=1540059299000, page='Thumbs Down', level='paid', phase=38),\n",
       " Row(userId='122', firstname='Molly', ts=1540059539000, page='NextSong', level='paid', phase=36),\n",
       " Row(userId='122', firstname='Molly', ts=1540059785000, page='NextSong', level='paid', phase=34),\n",
       " Row(userId='122', firstname='Molly', ts=1540059929000, page='NextSong', level='paid', phase=32),\n",
       " Row(userId='122', firstname='Molly', ts=1540059930000, page='Thumbs Up', level='paid', phase=30),\n",
       " Row(userId='122', firstname='Molly', ts=1540060168000, page='NextSong', level='paid', phase=28),\n",
       " Row(userId='122', firstname='Molly', ts=1540060409000, page='NextSong', level='paid', phase=26),\n",
       " Row(userId='122', firstname='Molly', ts=1540060680000, page='NextSong', level='paid', phase=24),\n",
       " Row(userId='122', firstname='Molly', ts=1540060929000, page='NextSong', level='paid', phase=22),\n",
       " Row(userId='122', firstname='Molly', ts=1540061191000, page='NextSong', level='paid', phase=20),\n",
       " Row(userId='122', firstname='Molly', ts=1540061457000, page='NextSong', level='paid', phase=18),\n",
       " Row(userId='122', firstname='Molly', ts=1540061676000, page='NextSong', level='paid', phase=16),\n",
       " Row(userId='122', firstname='Molly', ts=1540061868000, page='NextSong', level='paid', phase=14),\n",
       " Row(userId='122', firstname='Molly', ts=1540061869000, page='Thumbs Up', level='paid', phase=12),\n",
       " Row(userId='122', firstname='Molly', ts=1540061987000, page='Add to Playlist', level='paid', phase=10),\n",
       " Row(userId='122', firstname='Molly', ts=1540062022000, page='NextSong', level='paid', phase=8),\n",
       " Row(userId='122', firstname='Molly', ts=1540062049000, page='Settings', level='paid', phase=6),\n",
       " Row(userId='122', firstname='Molly', ts=1540062050000, page='Cancel', level='paid', phase=4),\n",
       " Row(userId='122', firstname='Molly', ts=1540062068000, page='Cancellation Confirmation', level='paid', phase=2)]"
      ]
     },
     "execution_count": 27,
     "metadata": {},
     "output_type": "execute_result"
    }
   ],
   "source": [
    "# View phase for user with downgrade or cancelation\n",
    "event_data_with_churn.select([\"userId\", \"firstname\", \"ts\", \"page\", \"level\", \"phase\"]).where(event_data_with_churn.userId == \"122\").sort(\"ts\").collect()"
   ]
  },
  {
   "cell_type": "code",
   "execution_count": 28,
   "metadata": {},
   "outputs": [
    {
     "name": "stdout",
     "output_type": "stream",
     "text": [
      "+------+-----------+-----+\n",
      "|userId|       page|churn|\n",
      "+------+-----------+-----+\n",
      "|100010|   NextSong|    0|\n",
      "|100010|   NextSong|    0|\n",
      "|100010|   NextSong|    0|\n",
      "|100010|  Thumbs Up|    0|\n",
      "|100010|   NextSong|    0|\n",
      "|100010|   NextSong|    0|\n",
      "|100010|   NextSong|    0|\n",
      "|100010|   NextSong|    0|\n",
      "|100010|Roll Advert|    0|\n",
      "|100010|   NextSong|    0|\n",
      "|100010|   NextSong|    0|\n",
      "|100010|   NextSong|    0|\n",
      "|100010|Roll Advert|    0|\n",
      "|100010|   NextSong|    0|\n",
      "|100010|  Thumbs Up|    0|\n",
      "|100010|   NextSong|    0|\n",
      "|100010|   NextSong|    0|\n",
      "|100010|Roll Advert|    0|\n",
      "|100010|   NextSong|    0|\n",
      "|100010|Roll Advert|    0|\n",
      "+------+-----------+-----+\n",
      "only showing top 20 rows\n",
      "\n"
     ]
    }
   ],
   "source": [
    "event_data_with_churn.select(\"userId\", \"page\", \"churn\").show(20)"
   ]
  },
  {
   "cell_type": "markdown",
   "metadata": {},
   "source": [
    "# Feature Engineering\n",
    "Once you've familiarized yourself with the data, build out the features you find promising to train your model on. To work with the full dataset, you can follow the following steps.\n",
    "- Write a script to extract the necessary features from the smaller subset of data\n",
    "- Ensure that your script is scalable, using the best practices discussed in Lesson 3\n",
    "- Try your script on the full data set, debugging your script if necessary\n",
    "\n",
    "If you are working in the classroom workspace, you can just extract features based on the small subset of data contained here. Be sure to transfer over this work to the larger dataset when you work on your Spark cluster."
   ]
  },
  {
   "cell_type": "markdown",
   "metadata": {},
   "source": [
    "From the available data, to detect churn the variables that can be used are gender, location and registration. These variables need to be transformed to be used in the modelling phase."
   ]
  },
  {
   "cell_type": "markdown",
   "metadata": {},
   "source": [
    "#### Gender: Convert to Numeric Format"
   ]
  },
  {
   "cell_type": "code",
   "execution_count": 13,
   "metadata": {},
   "outputs": [],
   "source": [
    "# The gender variable is categorical with values \"M\" (Male), \"F\" (Female) ans Null. We can convert these to numeric format using a mapping.\n",
    "\n",
    "# Handle null values and map gender to numeric values\n",
    "event_data_with_churn = event_data_with_churn.withColumn(\n",
    "    \"gender_numeric\", \n",
    "    when(col(\"gender\") == \"M\", 1)\n",
    "    .when(col(\"gender\") == \"F\", 0))"
   ]
  },
  {
   "cell_type": "markdown",
   "metadata": {},
   "source": [
    "#### Location: One-Hot Encoding\n"
   ]
  },
  {
   "cell_type": "code",
   "execution_count": 14,
   "metadata": {},
   "outputs": [],
   "source": [
    "# Index the location column\n",
    "indexer = StringIndexer(inputCol=\"location\", outputCol=\"location_indexed\")\n",
    "event_data_with_churn = indexer.fit(event_data_with_churn).transform(event_data_with_churn)"
   ]
  },
  {
   "cell_type": "markdown",
   "metadata": {},
   "source": [
    "#### Registration: Time-Based Features"
   ]
  },
  {
   "cell_type": "code",
   "execution_count": 15,
   "metadata": {},
   "outputs": [],
   "source": [
    "# Convert the registration timestamp to a date format\n",
    "event_data_with_churn = event_data_with_churn.withColumn(\"registration_date\", from_unixtime(col(\"registration\")/1000))\n",
    "\n",
    "# Extract year, month, and day\n",
    "event_data_with_churn = event_data_with_churn.withColumn(\"registration_year\", year(col(\"registration_date\")))\n",
    "event_data_with_churn = event_data_with_churn.withColumn(\"registration_month\", month(col(\"registration_date\")))\n",
    "event_data_with_churn = event_data_with_churn.withColumn(\"registration_day\", dayofmonth(col(\"registration_date\")))\n",
    "\n",
    "# Use the number of days since registration\n",
    "event_data_with_churn = event_data_with_churn.withColumn(\"days_since_registration\", datediff(current_date(), col(\"registration_date\")))"
   ]
  },
  {
   "cell_type": "code",
   "execution_count": 69,
   "metadata": {},
   "outputs": [
    {
     "name": "stdout",
     "output_type": "stream",
     "text": [
      "+-----+------+--------------+--------------------+----------------+-------------+-----------------+-----------------------+\n",
      "|churn|gender|gender_numeric|            location|location_indexed| registration|registration_year|days_since_registration|\n",
      "+-----+------+--------------+--------------------+----------------+-------------+-----------------+-----------------------+\n",
      "|    0|     F|             0|Bridgeport-Stamfo...|            75.0|1538016340000|             2018|                   2167|\n",
      "|    0|     F|             0|Bridgeport-Stamfo...|            75.0|1538016340000|             2018|                   2167|\n",
      "|    0|     F|             0|Bridgeport-Stamfo...|            75.0|1538016340000|             2018|                   2167|\n",
      "|    0|     F|             0|Bridgeport-Stamfo...|            75.0|1538016340000|             2018|                   2167|\n",
      "|    0|     F|             0|Bridgeport-Stamfo...|            75.0|1538016340000|             2018|                   2167|\n",
      "+-----+------+--------------+--------------------+----------------+-------------+-----------------+-----------------------+\n",
      "only showing top 5 rows\n",
      "\n"
     ]
    }
   ],
   "source": [
    "# Show the resulting DataFrame with new features\n",
    "event_data_with_churn.select(\"churn\", \"gender\", \"gender_numeric\", \"location\", \"location_indexed\", \"registration\", \"registration_year\", \"days_since_registration\").show(5)"
   ]
  },
  {
   "cell_type": "markdown",
   "metadata": {},
   "source": [
    "# Modeling\n",
    "Split the full dataset into train, test, and validation sets. Test out several of the machine learning methods you learned. Evaluate the accuracy of the various models, tuning parameters as necessary. Determine your winning model based on test accuracy and report results on the validation set. Since the churned users are a fairly small subset, I suggest using F1 score as the metric to optimize."
   ]
  },
  {
   "cell_type": "code",
   "execution_count": 16,
   "metadata": {},
   "outputs": [],
   "source": [
    "# As a first step break the data set into 80% of training data and \n",
    "# set aside 20%. Setting random seed to 42.\n",
    "train_data, test_data = event_data_with_churn.randomSplit([0.8, 0.2], seed=42)"
   ]
  },
  {
   "cell_type": "code",
   "execution_count": 25,
   "metadata": {},
   "outputs": [
    {
     "name": "stdout",
     "output_type": "stream",
     "text": [
      "+------+---------------+-----+\n",
      "|userId|           page|churn|\n",
      "+------+---------------+-----+\n",
      "|100010|           Home|    0|\n",
      "|100010|    Roll Advert|    0|\n",
      "|100010|      Thumbs Up|    0|\n",
      "|100010|           Home|    0|\n",
      "|100010|    Roll Advert|    0|\n",
      "|100010|Add to Playlist|    0|\n",
      "|100010|    Thumbs Down|    0|\n",
      "|100010|    Roll Advert|    0|\n",
      "|100010|    Roll Advert|    0|\n",
      "|100010|    Roll Advert|    0|\n",
      "|100010|         Logout|    0|\n",
      "|100010|    Roll Advert|    0|\n",
      "|100010|    Roll Advert|    0|\n",
      "|100010|    Roll Advert|    0|\n",
      "|100010|        Upgrade|    0|\n",
      "|100010|      Thumbs Up|    0|\n",
      "|100010|Add to Playlist|    0|\n",
      "|100010|Add to Playlist|    0|\n",
      "|100010|    Roll Advert|    0|\n",
      "|100010|           Home|    0|\n",
      "+------+---------------+-----+\n",
      "only showing top 20 rows\n",
      "\n"
     ]
    }
   ],
   "source": [
    "# Check for null values in key columns\n",
    "train_data.select(\"userId\", \"page\", \"churn\").show(20)\n"
   ]
  },
  {
   "cell_type": "code",
   "execution_count": 26,
   "metadata": {
    "scrolled": true
   },
   "outputs": [
    {
     "name": "stdout",
     "output_type": "stream",
     "text": [
      "+--------------+----------------+-----------------------+-----+\n",
      "|gender_numeric|location_indexed|days_since_registration|churn|\n",
      "+--------------+----------------+-----------------------+-----+\n",
      "|             0|            75.0|                   2166|    0|\n",
      "|             0|            75.0|                   2166|    0|\n",
      "|             0|            75.0|                   2166|    0|\n",
      "|             0|            75.0|                   2166|    0|\n",
      "|             0|            75.0|                   2166|    0|\n",
      "+--------------+----------------+-----------------------+-----+\n",
      "only showing top 5 rows\n",
      "\n"
     ]
    }
   ],
   "source": [
    "train_data.select(\"gender_numeric\", \"location_indexed\", \"days_since_registration\", \"churn\").show(5)"
   ]
  },
  {
   "cell_type": "code",
   "execution_count": 71,
   "metadata": {},
   "outputs": [
    {
     "name": "stdout",
     "output_type": "stream",
     "text": [
      "+-----+\n",
      "|churn|\n",
      "+-----+\n",
      "|    1|\n",
      "|    2|\n",
      "|    0|\n",
      "+-----+\n",
      "\n"
     ]
    }
   ],
   "source": [
    "train_data.select(\"churn\").distinct().show()"
   ]
  },
  {
   "cell_type": "code",
   "execution_count": 17,
   "metadata": {},
   "outputs": [],
   "source": [
    "# Prepare the feature vector\n",
    "feature_cols = [\"gender_numeric\", \"location_indexed\", \"days_since_registration\"]\n",
    "# Assemble the features\n",
    "assembler = VectorAssembler(inputCols=feature_cols, outputCol=\"features_raw\")\n",
    "# Scale the features\n",
    "scaler = StandardScaler(inputCol=\"features_raw\", outputCol=\"features\", withStd=False, withMean=False)                "
   ]
  },
  {
   "cell_type": "markdown",
   "metadata": {},
   "source": [
    "#### Logistic Regression - Benchmark"
   ]
  },
  {
   "cell_type": "code",
   "execution_count": 17,
   "metadata": {},
   "outputs": [],
   "source": [
    "# Create a logistic regression model for multi-class classification\n",
    "lr = LogisticRegression(featuresCol=\"features\", labelCol=\"churn\")"
   ]
  },
  {
   "cell_type": "code",
   "execution_count": 18,
   "metadata": {},
   "outputs": [
    {
     "name": "stdout",
     "output_type": "stream",
     "text": [
      "+------+-----+----------+\n",
      "|userId|churn|prediction|\n",
      "+------+-----+----------+\n",
      "|100010|    0|       0.0|\n",
      "|100010|    0|       0.0|\n",
      "|100010|    0|       0.0|\n",
      "|100010|    0|       0.0|\n",
      "|100010|    0|       0.0|\n",
      "|100010|    0|       0.0|\n",
      "|100010|    0|       0.0|\n",
      "|100010|    0|       0.0|\n",
      "|100010|    0|       0.0|\n",
      "|100010|    0|       0.0|\n",
      "+------+-----+----------+\n",
      "only showing top 10 rows\n",
      "\n"
     ]
    }
   ],
   "source": [
    "# Define the pipeline with the stages\n",
    "pipeline = Pipeline(stages=[assembler, scaler, lr])\n",
    "\n",
    "# Fit the pipeline model on the train data\n",
    "model = pipeline.fit(train_data)\n",
    "\n",
    "# Make predictions on the test data\n",
    "predictions = model.transform(test_data)\n",
    "\n",
    "# Show the predictions with the original churn type and predicted churn type\n",
    "predictions.select(\"userId\", \"churn\", \"prediction\").show(10)"
   ]
  },
  {
   "cell_type": "code",
   "execution_count": 19,
   "metadata": {},
   "outputs": [
    {
     "name": "stdout",
     "output_type": "stream",
     "text": [
      "Accuracy: 0.570451190090382\n",
      "F1 Score: 0.5126086576868314\n"
     ]
    }
   ],
   "source": [
    "# Evaluate the model using accuracy and f1-score\n",
    "evaluator = MulticlassClassificationEvaluator(labelCol=\"churn\", predictionCol=\"prediction\", metricName=\"accuracy\")\n",
    "accuracy = evaluator.evaluate(predictions)\n",
    "print(f\"Accuracy: {accuracy}\")\n",
    "\n",
    "evaluator_f1 = MulticlassClassificationEvaluator(labelCol=\"churn\", predictionCol=\"prediction\", metricName=\"f1\")\n",
    "f1 = evaluator_f1.evaluate(predictions)\n",
    "print(f\"F1 Score: {f1}\")"
   ]
  },
  {
   "cell_type": "code",
   "execution_count": 19,
   "metadata": {},
   "outputs": [
    {
     "name": "stdout",
     "output_type": "stream",
     "text": [
      "Best model f1: 0.5126086576868314\n",
      "Best model accuracy: 0.570451190090382\n",
      "Best Parameters:\n",
      "aggregationDepth: 2\n",
      "elasticNetParam: 0.5\n",
      "family: auto\n",
      "featuresCol: features\n",
      "fitIntercept: True\n",
      "labelCol: churn\n",
      "maxIter: 100\n",
      "predictionCol: prediction\n",
      "probabilityCol: probability\n",
      "rawPredictionCol: rawPrediction\n",
      "regParam: 0.01\n",
      "standardization: True\n",
      "threshold: 0.5\n",
      "tol: 1e-06\n"
     ]
    }
   ],
   "source": [
    "# Cross-validation for hyperparameter tuning\n",
    "paramGrid = ParamGridBuilder() \\\n",
    "    .addGrid(lr.regParam, [0.01, 0.1, 1.0]) \\\n",
    "    .addGrid(lr.elasticNetParam, [0.0, 0.5, 1.0]) \\\n",
    "    .build()\n",
    "\n",
    "cv = CrossValidator(estimator=pipeline,\n",
    "                    estimatorParamMaps=paramGrid,\n",
    "                    evaluator=evaluator_f1,\n",
    "                    numFolds=3)\n",
    "\n",
    "cvModel = cv.fit(train_data)\n",
    "\n",
    "# Use the best model to make predictions\n",
    "best_predictions = cvModel.transform(test_data)\n",
    "\n",
    "\n",
    "metrics = [\"f1\", \"accuracy\"]\n",
    "\n",
    "for metric in metrics:\n",
    "    evaluator = MulticlassClassificationEvaluator(\n",
    "        labelCol=\"churn\", \n",
    "        predictionCol=\"prediction\",\n",
    "        metricName=metric\n",
    "    )\n",
    "    score = evaluator.evaluate(best_predictions)\n",
    "    print(f\"Best model {metric}: {score}\")\n",
    "\n",
    "#best_auc = evaluator.evaluate(best_predictions)\n",
    "#print(f\"Best AUC: {best_auc}\")\n",
    "\n",
    "# Print the best parameters\n",
    "best_params = cvModel.bestModel.stages[-1].extractParamMap()\n",
    "print(\"Best Parameters:\")\n",
    "for param, value in best_params.items():\n",
    "    print(f\"{param.name}: {value}\")\n",
    "    \n"
   ]
  },
  {
   "cell_type": "markdown",
   "metadata": {},
   "source": [
    "#### Decision Trees"
   ]
  },
  {
   "cell_type": "code",
   "execution_count": 19,
   "metadata": {},
   "outputs": [],
   "source": [
    "# Create a decision tree model for multi-class classification\n",
    "dt = DecisionTreeClassifier(featuresCol=\"features\", labelCol=\"churn\")"
   ]
  },
  {
   "cell_type": "code",
   "execution_count": 20,
   "metadata": {},
   "outputs": [
    {
     "name": "stdout",
     "output_type": "stream",
     "text": [
      "+------+-----+----------+\n",
      "|userId|churn|prediction|\n",
      "+------+-----+----------+\n",
      "|100010|    0|       0.0|\n",
      "|100010|    0|       0.0|\n",
      "|100010|    0|       0.0|\n",
      "|100010|    0|       0.0|\n",
      "|100010|    0|       0.0|\n",
      "|100010|    0|       0.0|\n",
      "|100010|    0|       0.0|\n",
      "|100010|    0|       0.0|\n",
      "|100010|    0|       0.0|\n",
      "|100010|    0|       0.0|\n",
      "+------+-----+----------+\n",
      "only showing top 10 rows\n",
      "\n"
     ]
    }
   ],
   "source": [
    "# Define the pipeline with the stages\n",
    "pipeline = Pipeline(stages=[assembler, scaler, dt])\n",
    "\n",
    "# Fit the pipeline model on the train data\n",
    "model = pipeline.fit(train_data)\n",
    "\n",
    "# Make predictions on the test data\n",
    "predictions = model.transform(test_data)\n",
    "\n",
    "# Show the predictions with the original churn type and predicted churn type\n",
    "predictions.select(\"userId\", \"churn\", \"prediction\").show(10)"
   ]
  },
  {
   "cell_type": "code",
   "execution_count": 21,
   "metadata": {
    "scrolled": true
   },
   "outputs": [
    {
     "name": "stdout",
     "output_type": "stream",
     "text": [
      "Accuracy: 0.7227503510856649\n",
      "F1 Score: 0.6947595851297533\n"
     ]
    }
   ],
   "source": [
    "# Evaluate the model using accuracy\n",
    "evaluator = MulticlassClassificationEvaluator(labelCol=\"churn\", predictionCol=\"prediction\", metricName=\"accuracy\")\n",
    "accuracy = evaluator.evaluate(predictions)\n",
    "print(f\"Accuracy: {accuracy}\")\n",
    "\n",
    "evaluator_f1 = MulticlassClassificationEvaluator(labelCol=\"churn\", predictionCol=\"prediction\", metricName=\"f1\")\n",
    "f1 = evaluator_f1.evaluate(predictions)\n",
    "print(f\"F1 Score: {f1}\")"
   ]
  },
  {
   "cell_type": "code",
   "execution_count": 23,
   "metadata": {
    "scrolled": true
   },
   "outputs": [
    {
     "name": "stdout",
     "output_type": "stream",
     "text": [
      "Best model f1: 0.9899900880375051\n",
      "Best model accuracy: 0.990043570631234\n",
      "Best Parameters:\n",
      "cacheNodeIds: False\n",
      "checkpointInterval: 10\n",
      "featuresCol: features\n",
      "impurity: gini\n",
      "labelCol: churn\n",
      "maxBins: 64\n",
      "maxDepth: 15\n",
      "maxMemoryInMB: 256\n",
      "minInfoGain: 0.0\n",
      "minInstancesPerNode: 1\n",
      "predictionCol: prediction\n",
      "probabilityCol: probability\n",
      "rawPredictionCol: rawPrediction\n",
      "seed: 5939283640868488193\n"
     ]
    }
   ],
   "source": [
    "# Cross-validation for hyperparameter tuning\n",
    "paramGrid = ParamGridBuilder() \\\n",
    "    .addGrid(dt.maxDepth, [2, 5, 15]) \\\n",
    "    .addGrid(dt.maxBins, [16, 32, 64]) \\\n",
    "    .build()\n",
    "\n",
    "cv = CrossValidator(estimator=pipeline,\n",
    "                    estimatorParamMaps=paramGrid,\n",
    "                    evaluator=evaluator_f1,\n",
    "                    numFolds=3)\n",
    "\n",
    "cvModel = cv.fit(train_data)\n",
    "\n",
    "# Use the best model to make predictions\n",
    "best_predictions = cvModel.transform(test_data)\n",
    "\n",
    "\n",
    "metrics = [\"f1\", \"accuracy\"]\n",
    "\n",
    "for metric in metrics:\n",
    "    evaluator = MulticlassClassificationEvaluator(\n",
    "        labelCol=\"churn\", \n",
    "        predictionCol=\"prediction\",\n",
    "        metricName=metric\n",
    "    )\n",
    "    score = evaluator.evaluate(best_predictions)\n",
    "    print(f\"Best model {metric}: {score}\")\n",
    "\n",
    "#best_auc = evaluator.evaluate(best_predictions)\n",
    "#print(f\"Best AUC: {best_auc}\")\n",
    "\n",
    "# Print the best parameters\n",
    "best_params = cvModel.bestModel.stages[-1].extractParamMap()\n",
    "print(\"Best Parameters:\")\n",
    "for param, value in best_params.items():\n",
    "    print(f\"{param.name}: {value}\")\n",
    "    \n"
   ]
  },
  {
   "cell_type": "markdown",
   "metadata": {},
   "source": [
    "#### Random Forests"
   ]
  },
  {
   "cell_type": "code",
   "execution_count": 17,
   "metadata": {},
   "outputs": [],
   "source": [
    "# Create a decision tree model for multi-class classification\n",
    "rf = RandomForestClassifier(featuresCol=\"features\", labelCol=\"churn\")"
   ]
  },
  {
   "cell_type": "code",
   "execution_count": 18,
   "metadata": {},
   "outputs": [
    {
     "name": "stdout",
     "output_type": "stream",
     "text": [
      "+------+-----+----------+\n",
      "|userId|churn|prediction|\n",
      "+------+-----+----------+\n",
      "|100010|    0|       0.0|\n",
      "|100010|    0|       0.0|\n",
      "|100010|    0|       0.0|\n",
      "|100010|    0|       0.0|\n",
      "|100010|    0|       0.0|\n",
      "|100010|    0|       0.0|\n",
      "|100010|    0|       0.0|\n",
      "|100010|    0|       0.0|\n",
      "|100010|    0|       0.0|\n",
      "|100010|    0|       0.0|\n",
      "+------+-----+----------+\n",
      "only showing top 10 rows\n",
      "\n"
     ]
    }
   ],
   "source": [
    "# Define the pipeline with the stages\n",
    "pipeline = Pipeline(stages=[assembler, scaler, rf])\n",
    "\n",
    "# Fit the pipeline model on the train data\n",
    "model = pipeline.fit(train_data)\n",
    "\n",
    "# Make predictions on the test data\n",
    "predictions = model.transform(test_data)\n",
    "\n",
    "# Show the predictions with the original churn type and predicted churn type\n",
    "predictions.select(\"userId\", \"churn\", \"prediction\").show(10)"
   ]
  },
  {
   "cell_type": "code",
   "execution_count": 23,
   "metadata": {
    "scrolled": true
   },
   "outputs": [
    {
     "name": "stdout",
     "output_type": "stream",
     "text": [
      "Accuracy: 0.7250189046127256\n",
      "F1 Score: 0.6982440292394114\n"
     ]
    }
   ],
   "source": [
    "# Evaluate the model using accuracy\n",
    "evaluator = MulticlassClassificationEvaluator(labelCol=\"churn\", predictionCol=\"prediction\", metricName=\"accuracy\")\n",
    "accuracy = evaluator.evaluate(predictions)\n",
    "print(f\"Accuracy: {accuracy}\")\n",
    "\n",
    "evaluator_f1 = MulticlassClassificationEvaluator(labelCol=\"churn\", predictionCol=\"prediction\", metricName=\"f1\")\n",
    "f1 = evaluator_f1.evaluate(predictions)\n",
    "print(f\"F1 Score: {f1}\")"
   ]
  },
  {
   "cell_type": "code",
   "execution_count": 21,
   "metadata": {},
   "outputs": [
    {
     "name": "stdout",
     "output_type": "stream",
     "text": [
      "Best model f1: 0.977382296043162\n",
      "Best model accuracy: 0.9774404954808973\n",
      "Best Parameters:\n",
      "cacheNodeIds: False\n",
      "checkpointInterval: 10\n",
      "featureSubsetStrategy: auto\n",
      "featuresCol: features\n",
      "impurity: gini\n",
      "labelCol: churn\n",
      "maxBins: 32\n",
      "maxDepth: 15\n",
      "maxMemoryInMB: 256\n",
      "minInfoGain: 0.0\n",
      "minInstancesPerNode: 1\n",
      "numTrees: 100\n",
      "predictionCol: prediction\n",
      "probabilityCol: probability\n",
      "rawPredictionCol: rawPrediction\n",
      "seed: -843973239332966047\n",
      "subsamplingRate: 1.0\n"
     ]
    }
   ],
   "source": [
    "# Cross-validation for hyperparameter tuning\n",
    "paramGrid = ParamGridBuilder() \\\n",
    "    .addGrid(rf.maxDepth, [2, 5, 15]) \\\n",
    "    .addGrid(rf.numTrees, [50, 100, 200]) \\\n",
    "    .build()\n",
    "\n",
    "cv = CrossValidator(estimator=pipeline,\n",
    "                    estimatorParamMaps=paramGrid,\n",
    "                    evaluator=evaluator_f1,\n",
    "                    numFolds=3)\n",
    "\n",
    "cvModel = cv.fit(train_data)\n",
    "\n",
    "# Use the best model to make predictions\n",
    "best_predictions = cvModel.transform(test_data)\n",
    "\n",
    "\n",
    "metrics = [\"f1\", \"accuracy\"]\n",
    "\n",
    "for metric in metrics:\n",
    "    evaluator = MulticlassClassificationEvaluator(\n",
    "        labelCol=\"churn\", \n",
    "        predictionCol=\"prediction\",\n",
    "        metricName=metric\n",
    "    )\n",
    "    score = evaluator.evaluate(best_predictions)\n",
    "    print(f\"Best model {metric}: {score}\")\n",
    "\n",
    "#best_auc = evaluator.evaluate(best_predictions)\n",
    "#print(f\"Best AUC: {best_auc}\")\n",
    "\n",
    "# Print the best parameters\n",
    "best_params = cvModel.bestModel.stages[-1].extractParamMap()\n",
    "print(\"Best Parameters:\")\n",
    "for param, value in best_params.items():\n",
    "    print(f\"{param.name}: {value}\")\n",
    "    "
   ]
  },
  {
   "cell_type": "markdown",
   "metadata": {},
   "source": [
    "#### Multilayer Perceptron Classifier "
   ]
  },
  {
   "cell_type": "code",
   "execution_count": 21,
   "metadata": {},
   "outputs": [],
   "source": [
    "# Create a decision tree model for multi-class classification\n",
    "layers = [len(feature_cols), 5, 4, 3]\n",
    "\n",
    "mpc = MultilayerPerceptronClassifier(featuresCol=\"features\", labelCol=\"churn\", layers=layers,\n",
    "    maxIter=100)"
   ]
  },
  {
   "cell_type": "code",
   "execution_count": 22,
   "metadata": {},
   "outputs": [
    {
     "name": "stdout",
     "output_type": "stream",
     "text": [
      "+------+-----+----------+\n",
      "|userId|churn|prediction|\n",
      "+------+-----+----------+\n",
      "|100010|    0|       0.0|\n",
      "|100010|    0|       0.0|\n",
      "|100010|    0|       0.0|\n",
      "|100010|    0|       0.0|\n",
      "|100010|    0|       0.0|\n",
      "|100010|    0|       0.0|\n",
      "|100010|    0|       0.0|\n",
      "|100010|    0|       0.0|\n",
      "|100010|    0|       0.0|\n",
      "|100010|    0|       0.0|\n",
      "+------+-----+----------+\n",
      "only showing top 10 rows\n",
      "\n"
     ]
    }
   ],
   "source": [
    "# Define the pipeline with the stages\n",
    "pipeline = Pipeline(stages=[assembler, scaler, mpc])\n",
    "\n",
    "# Fit the pipeline model on the train data\n",
    "model = pipeline.fit(train_data)\n",
    "\n",
    "# Make predictions on the test data\n",
    "predictions = model.transform(test_data)\n",
    "\n",
    "# Show the predictions with the original churn type and predicted churn type\n",
    "predictions.select(\"userId\", \"churn\", \"prediction\").show(10)"
   ]
  },
  {
   "cell_type": "code",
   "execution_count": 23,
   "metadata": {
    "scrolled": true
   },
   "outputs": [
    {
     "name": "stdout",
     "output_type": "stream",
     "text": [
      "Accuracy: 0.49582298080731696\n",
      "F1 Score: 0.32870256902186307\n"
     ]
    }
   ],
   "source": [
    "# Evaluate the model using accuracy\n",
    "evaluator = MulticlassClassificationEvaluator(labelCol=\"churn\", predictionCol=\"prediction\", metricName=\"accuracy\")\n",
    "accuracy = evaluator.evaluate(predictions)\n",
    "print(f\"Accuracy: {accuracy}\")\n",
    "\n",
    "evaluator_f1 = MulticlassClassificationEvaluator(labelCol=\"churn\", predictionCol=\"prediction\", metricName=\"f1\")\n",
    "f1 = evaluator_f1.evaluate(predictions)\n",
    "print(f\"F1 Score: {f1}\")"
   ]
  },
  {
   "cell_type": "code",
   "execution_count": 25,
   "metadata": {
    "scrolled": true
   },
   "outputs": [
    {
     "name": "stdout",
     "output_type": "stream",
     "text": [
      "Best model f1: 0.32870256902186307\n",
      "Best model accuracy: 0.49582298080731696\n",
      "Best Parameters:\n",
      "featuresCol: features\n",
      "labelCol: churn\n",
      "predictionCol: prediction\n",
      "probabilityCol: probability\n",
      "rawPredictionCol: rawPrediction\n"
     ]
    }
   ],
   "source": [
    "# Cross-validation for hyperparameter tuning\n",
    "paramGrid = ParamGridBuilder() \\\n",
    "    .addGrid(mpc.stepSize, [0.01, 0.05, 0.1]) \\\n",
    "    .addGrid(mpc.blockSize, [64, 128, 256]) \\\n",
    "    .build()\n",
    "\n",
    "cv = CrossValidator(estimator=pipeline,\n",
    "                    estimatorParamMaps=paramGrid,\n",
    "                    evaluator=evaluator_f1,\n",
    "                    numFolds=3)\n",
    "\n",
    "cvModel = cv.fit(train_data)\n",
    "\n",
    "# Use the best model to make predictions\n",
    "best_predictions = cvModel.transform(test_data)\n",
    "\n",
    "\n",
    "metrics = [\"f1\", \"accuracy\"]\n",
    "\n",
    "for metric in metrics:\n",
    "    evaluator = MulticlassClassificationEvaluator(\n",
    "        labelCol=\"churn\", \n",
    "        predictionCol=\"prediction\",\n",
    "        metricName=metric\n",
    "    )\n",
    "    score = evaluator.evaluate(best_predictions)\n",
    "    print(f\"Best model {metric}: {score}\")\n",
    "\n",
    "#best_auc = evaluator.evaluate(best_predictions)\n",
    "#print(f\"Best AUC: {best_auc}\")\n",
    "\n",
    "# Print the best parameters\n",
    "best_params = cvModel.bestModel.stages[-1].extractParamMap()\n",
    "print(\"Best Parameters:\")\n",
    "for param, value in best_params.items():\n",
    "    print(f\"{param.name}: {value}\")\n",
    "    "
   ]
  },
  {
   "cell_type": "markdown",
   "metadata": {},
   "source": [
    "#### Best Model Selected\n",
    "The best model observed in this analysis was a Decision Tree model with an F1-score of 0.99. The Logistic Regression and Multilayer Perceptron Classifier were the worst prediction-scoring models. \n",
    "The best parameters for the Decision Tree model were the following:\n",
    "\n",
    "- cacheNodeIds: False\n",
    "- impurity: gini\n",
    "- maxBins: 64\n",
    "- maxDepth: 15\n",
    "- maxMemoryInMB: 256\n",
    "- minInfoGain: 0.0\n",
    "- minInstancesPerNode: 1\n",
    "\n",
    "I will now save the predictions to a csv file."
   ]
  },
  {
   "cell_type": "code",
   "execution_count": 22,
   "metadata": {},
   "outputs": [],
   "source": [
    "# Create a decision tree model for multi-class classification\n",
    "dt = DecisionTreeClassifier(featuresCol=\"features\", labelCol=\"churn\", \\\n",
    "                            maxBins=64, maxDepth=15)\n",
    "\n",
    "# Define the pipeline with the stages\n",
    "pipeline = Pipeline(stages=[assembler, scaler, dt])\n",
    "\n",
    "# Fit the pipeline model on the train data\n",
    "model = pipeline.fit(train_data) \n",
    "\n",
    "# Make predictions on the test data\n",
    "predictions = model.transform(test_data)\n",
    "\n",
    "# Save to CSV \n",
    "predictions.select(\"userId\", \"churn\", \"prediction\") \\\n",
    "    .write.csv(\"predictions.csv\", header=True, mode=\"overwrite\")"
   ]
  },
  {
   "cell_type": "markdown",
   "metadata": {},
   "source": [
    "To evaluate whether the model generalizes well to unseen data, I made a sensitivity analysis by varying the size of the test set and observing the difference in the f1-score to see the robustness of the model to data variations."
   ]
  },
  {
   "cell_type": "markdown",
   "metadata": {},
   "source": [
    "#### Sensitivity Analysis"
   ]
  },
  {
   "cell_type": "markdown",
   "metadata": {},
   "source": [
    " Split the data in 70/30"
   ]
  },
  {
   "cell_type": "code",
   "execution_count": 16,
   "metadata": {},
   "outputs": [],
   "source": [
    "# As a first step break the data set into 70% of training data and \n",
    "# set aside 30%. Setting random seed to 42.\n",
    "train_data, test_data = event_data_with_churn.randomSplit([0.7, 0.3], seed=42)"
   ]
  },
  {
   "cell_type": "code",
   "execution_count": 17,
   "metadata": {},
   "outputs": [],
   "source": [
    "# Prepare the feature vector\n",
    "feature_cols = [\"gender_numeric\", \"location_indexed\", \"days_since_registration\"]\n",
    "# Assemble the features\n",
    "assembler = VectorAssembler(inputCols=feature_cols, outputCol=\"features_raw\")\n",
    "# Scale the features\n",
    "scaler = StandardScaler(inputCol=\"features_raw\", outputCol=\"features\", withStd=False, withMean=False)                "
   ]
  },
  {
   "cell_type": "code",
   "execution_count": 18,
   "metadata": {
    "scrolled": true
   },
   "outputs": [
    {
     "name": "stdout",
     "output_type": "stream",
     "text": [
      "+------+-----+----------+\n",
      "|userId|churn|prediction|\n",
      "+------+-----+----------+\n",
      "|100010|    0|       0.0|\n",
      "|100010|    0|       0.0|\n",
      "|100010|    0|       0.0|\n",
      "|100010|    0|       0.0|\n",
      "|100010|    0|       0.0|\n",
      "|100010|    0|       0.0|\n",
      "|100010|    0|       0.0|\n",
      "|100010|    0|       0.0|\n",
      "|100010|    0|       0.0|\n",
      "|100010|    0|       0.0|\n",
      "+------+-----+----------+\n",
      "only showing top 10 rows\n",
      "\n"
     ]
    }
   ],
   "source": [
    "# Create a decision tree model for multi-class classification\n",
    "dt = DecisionTreeClassifier(featuresCol=\"features\", labelCol=\"churn\", maxBins=64, maxDepth=15)\n",
    "\n",
    "# Define the pipeline with the stages\n",
    "pipeline = Pipeline(stages=[assembler, scaler, dt])\n",
    "\n",
    "# Fit the pipeline model on the train data\n",
    "model = pipeline.fit(train_data)\n",
    "\n",
    "# Make predictions on the test data\n",
    "predictions = model.transform(test_data)\n",
    "\n",
    "# Show the predictions with the original churn type and predicted churn type\n",
    "predictions.select(\"userId\", \"churn\", \"prediction\").show(10)"
   ]
  },
  {
   "cell_type": "code",
   "execution_count": 19,
   "metadata": {
    "scrolled": true
   },
   "outputs": [
    {
     "name": "stdout",
     "output_type": "stream",
     "text": [
      "Accuracy: 0.9898772785129326\n",
      "F1 Score: 0.9898229411718305\n"
     ]
    }
   ],
   "source": [
    "# Evaluate the model using accuracy\n",
    "evaluator = MulticlassClassificationEvaluator(labelCol=\"churn\", predictionCol=\"prediction\", metricName=\"accuracy\")\n",
    "accuracy = evaluator.evaluate(predictions)\n",
    "print(f\"Accuracy: {accuracy}\")\n",
    "\n",
    "evaluator_f1 = MulticlassClassificationEvaluator(labelCol=\"churn\", predictionCol=\"prediction\", metricName=\"f1\")\n",
    "f1 = evaluator_f1.evaluate(predictions)\n",
    "print(f\"F1 Score: {f1}\")"
   ]
  },
  {
   "cell_type": "markdown",
   "metadata": {},
   "source": [
    "Split the data in 90/10"
   ]
  },
  {
   "cell_type": "code",
   "execution_count": 15,
   "metadata": {},
   "outputs": [],
   "source": [
    "# As a final step break the data set into 90% of training data and \n",
    "# set aside 10%. Setting random seed to 42.\n",
    "train_data, test_data = event_data_with_churn.randomSplit([0.9, 0.1], seed=42)"
   ]
  },
  {
   "cell_type": "code",
   "execution_count": 16,
   "metadata": {},
   "outputs": [],
   "source": [
    "# Prepare the feature vector\n",
    "feature_cols = [\"gender_numeric\", \"location_indexed\", \"days_since_registration\"]\n",
    "# Assemble the features\n",
    "assembler = VectorAssembler(inputCols=feature_cols, outputCol=\"features_raw\")\n",
    "# Scale the features\n",
    "scaler = StandardScaler(inputCol=\"features_raw\", outputCol=\"features\", withStd=False, withMean=False)                "
   ]
  },
  {
   "cell_type": "code",
   "execution_count": 17,
   "metadata": {},
   "outputs": [
    {
     "name": "stdout",
     "output_type": "stream",
     "text": [
      "+------+-----+----------+\n",
      "|userId|churn|prediction|\n",
      "+------+-----+----------+\n",
      "|100010|    0|       0.0|\n",
      "|100010|    0|       0.0|\n",
      "|100010|    0|       0.0|\n",
      "|100010|    0|       0.0|\n",
      "|100010|    0|       0.0|\n",
      "|100010|    0|       0.0|\n",
      "|100010|    0|       0.0|\n",
      "|100010|    0|       0.0|\n",
      "|100010|    0|       0.0|\n",
      "|100010|    0|       0.0|\n",
      "+------+-----+----------+\n",
      "only showing top 10 rows\n",
      "\n"
     ]
    }
   ],
   "source": [
    "# Create a decision tree model for multi-class classification\n",
    "dt = DecisionTreeClassifier(featuresCol=\"features\", labelCol=\"churn\", maxBins=64, maxDepth=15)\n",
    "\n",
    "# Define the pipeline with the stages\n",
    "pipeline = Pipeline(stages=[assembler, scaler, dt])\n",
    "\n",
    "# Fit the pipeline model on the train data\n",
    "model = pipeline.fit(train_data)\n",
    "\n",
    "# Make predictions on the test data\n",
    "predictions = model.transform(test_data)\n",
    "\n",
    "# Show the predictions with the original churn type and predicted churn type\n",
    "predictions.select(\"userId\", \"churn\", \"prediction\").show(10)"
   ]
  },
  {
   "cell_type": "code",
   "execution_count": 18,
   "metadata": {
    "scrolled": true
   },
   "outputs": [
    {
     "name": "stdout",
     "output_type": "stream",
     "text": [
      "Accuracy: 0.9801053876760942\n",
      "F1 Score: 0.9800325214470158\n"
     ]
    }
   ],
   "source": [
    "# Evaluate the model using accuracy\n",
    "evaluator = MulticlassClassificationEvaluator(labelCol=\"churn\", predictionCol=\"prediction\", metricName=\"accuracy\")\n",
    "accuracy = evaluator.evaluate(predictions)\n",
    "print(f\"Accuracy: {accuracy}\")\n",
    "\n",
    "evaluator_f1 = MulticlassClassificationEvaluator(labelCol=\"churn\", predictionCol=\"prediction\", metricName=\"f1\")\n",
    "f1 = evaluator_f1.evaluate(predictions)\n",
    "print(f\"F1 Score: {f1}\")"
   ]
  },
  {
   "cell_type": "markdown",
   "metadata": {},
   "source": [
    "Reducing the size of the training set from 80/20 to 70/30 did not affect the f1-score, as it remained at 0.99. However, increasing the training set more to 90/10 reduced the f1-score to 0.98. The differences are small and indicate the robustness of the model with varying dataset compositions and a very high prediction score.\n"
   ]
  },
  {
   "cell_type": "code",
   "execution_count": null,
   "metadata": {},
   "outputs": [],
   "source": []
  }
 ],
 "metadata": {
  "kernelspec": {
   "display_name": "Python 3",
   "language": "python",
   "name": "python3"
  },
  "language_info": {
   "codemirror_mode": {
    "name": "ipython",
    "version": 3
   },
   "file_extension": ".py",
   "mimetype": "text/x-python",
   "name": "python",
   "nbconvert_exporter": "python",
   "pygments_lexer": "ipython3",
   "version": "3.6.3"
  }
 },
 "nbformat": 4,
 "nbformat_minor": 2
}
